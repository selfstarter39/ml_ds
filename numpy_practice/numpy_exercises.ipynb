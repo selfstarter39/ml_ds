{
 "cells": [
  {
   "cell_type": "markdown",
   "metadata": {},
   "source": [
    "### The Ultimate Numpy Practice Workbook\n",
    "\n",
    "- A learn-by-doing approach\n",
    "- Solutions to every problem\n",
    "- Ready to use code/solution"
   ]
  },
  {
   "cell_type": "code",
   "execution_count": 2,
   "metadata": {},
   "outputs": [],
   "source": [
    "import numpy as np"
   ]
  },
  {
   "cell_type": "markdown",
   "metadata": {},
   "source": [
    "### Notes\n",
    "- Remember that NumPy arrays have a **defined data type**. This means that **you shall not able to insert strings into an integer type array**. \n",
    "\n",
    "- _The main difference between a numpy array and a python list is that np.arrays allow vectorized operations;a list on the other hand can't handle vectorized operations (by design)_.\n",
    "    - A `vectorized operation` means that `a function gets applied to each element in the numpy array`.\n",
    "\n",
    "**Let's look at an example**"
   ]
  },
  {
   "cell_type": "code",
   "execution_count": 62,
   "metadata": {},
   "outputs": [
    {
     "name": "stdout",
     "output_type": "stream",
     "text": [
      "List is lst:[0, 1, 2, 3, 4]\n",
      "Array is arr:[0 1 2 3 4]\n"
     ]
    }
   ],
   "source": [
    "lst = [i for i in range(5)] # list\n",
    "arr = np.arange(5) # numpy array\n",
    "print(f\"List is lst:{lst}\")\n",
    "print(f\"Array is arr:{arr}\")"
   ]
  },
  {
   "cell_type": "markdown",
   "metadata": {},
   "source": [
    "**Now let's add `5` to each element of the list and array**"
   ]
  },
  {
   "cell_type": "code",
   "execution_count": 63,
   "metadata": {},
   "outputs": [
    {
     "name": "stdout",
     "output_type": "stream",
     "text": [
      "Updated List is lst:[5, 6, 7, 8, 9]\n",
      "Updated Array is arr:[5 6 7 8 9]\n"
     ]
    }
   ],
   "source": [
    "lst = [i+5 for i in lst]\n",
    "arr = arr + 5\n",
    "print(f\"Updated List is lst:{lst}\")\n",
    "print(f\"Updated Array is arr:{arr}\")"
   ]
  },
  {
   "cell_type": "markdown",
   "metadata": {},
   "source": [
    "**Now let's multiply 5 to each element of the list and array**"
   ]
  },
  {
   "cell_type": "code",
   "execution_count": 64,
   "metadata": {},
   "outputs": [
    {
     "name": "stdout",
     "output_type": "stream",
     "text": [
      "Updated List is lst:[25, 30, 35, 40, 45]\n",
      "Updated Array is arr:[25 30 35 40 45]\n"
     ]
    }
   ],
   "source": [
    "lst = [i*5 for i in lst]\n",
    "arr = arr * 5\n",
    "print(f\"Updated List is lst:{lst}\")\n",
    "print(f\"Updated Array is arr:{arr}\")"
   ]
  },
  {
   "cell_type": "markdown",
   "metadata": {},
   "source": [
    "**Observe what happens when we try to multiply a list with a number**"
   ]
  },
  {
   "cell_type": "code",
   "execution_count": 65,
   "metadata": {},
   "outputs": [
    {
     "name": "stdout",
     "output_type": "stream",
     "text": [
      "[25, 30, 35, 40, 45, 25, 30, 35, 40, 45, 25, 30, 35, 40, 45, 25, 30, 35, 40, 45, 25, 30, 35, 40, 45]\n"
     ]
    }
   ],
   "source": [
    "lst = lst * 5\n",
    "print(lst)"
   ]
  },
  {
   "cell_type": "markdown",
   "metadata": {},
   "source": [
    "As observed from abv 2 examples:\n",
    "- The addition and mutiplication operations can be directly applied on the numpy array\n",
    "- But the lst needs a loop to access each element and apply the relevant opertion\n",
    "\n",
    "**This makes numpy way faster and efficient to work with as compared to list for vectorized operations**."
   ]
  },
  {
   "cell_type": "markdown",
   "metadata": {},
   "source": [
    "### Good to know methods"
   ]
  },
  {
   "cell_type": "markdown",
   "metadata": {},
   "source": [
    "#### A. Copy:\n",
    "- Just like python lists, if we make a reference to a numpy array, (using **a = b**), both variables refer to the same underlying array.  (sort of aliasing)"
   ]
  },
  {
   "cell_type": "code",
   "execution_count": 16,
   "metadata": {},
   "outputs": [
    {
     "name": "stdout",
     "output_type": "stream",
     "text": [
      "[1 2 3]\n",
      "a is:[10  2  3]\n",
      "b is:[10  2  3]\n"
     ]
    }
   ],
   "source": [
    "a = np.array([1,2,3])\n",
    "print(a)\n",
    "b = a\n",
    "b[0] = 10\n",
    "print(f\"a is:{a}\")\n",
    "print(f\"b is:{b}\")"
   ]
  },
  {
   "cell_type": "markdown",
   "metadata": {},
   "source": [
    "- As observed abv, changing `b` changes `a`.\n",
    "- The correct way to make a **copy** is via `copy()` function. It doesn't need any argument."
   ]
  },
  {
   "cell_type": "code",
   "execution_count": 17,
   "metadata": {},
   "outputs": [
    {
     "name": "stdout",
     "output_type": "stream",
     "text": [
      "[1 2 3]\n",
      "a is:[1 2 3]\n",
      "b is:[10  2  3]\n"
     ]
    }
   ],
   "source": [
    "a = np.array([1,2,3])\n",
    "print(a)\n",
    "b = a.copy()\n",
    "b[0] = 10\n",
    "print(f\"a is:{a}\")\n",
    "print(f\"b is:{b}\")"
   ]
  },
  {
   "cell_type": "markdown",
   "metadata": {},
   "source": [
    "#### B. Casting:\n",
    "A numpy array of one datatype can be **cast** to another using `astype()`. The new datatype (to be casted to) is passed as an argument."
   ]
  },
  {
   "cell_type": "code",
   "execution_count": 18,
   "metadata": {},
   "outputs": [
    {
     "name": "stdout",
     "output_type": "stream",
     "text": [
      "a is:[1 2 3] and dtype of a is int64\n",
      "Now a is:[1. 2. 3.] and dtype of a is float32\n"
     ]
    }
   ],
   "source": [
    "a = np.array([1,2,3])\n",
    "print(f\"a is:{a} and dtype of a is {a.dtype}\")\n",
    "a = a.astype(dtype = np.float32)\n",
    "print(f\"Now a is:{a} and dtype of a is {a.dtype}\")"
   ]
  },
  {
   "cell_type": "markdown",
   "metadata": {},
   "source": [
    "#### C. Empty array\n",
    "\n",
    "There are 2 ways we can create empty arrays using numpy:\n",
    "1. Using **zeros()**\n",
    "    > all values are initialized to 0\n",
    "2. Using **empty()**\n",
    "    > - all values are initialized to junk\n",
    "   - so might be a little faster to np.zeros()"
   ]
  },
  {
   "cell_type": "code",
   "execution_count": 19,
   "metadata": {},
   "outputs": [
    {
     "name": "stdout",
     "output_type": "stream",
     "text": [
      "Empty array via zeros():[[0. 0.]\n",
      " [0. 0.]]\n",
      "Empty array via empty():[[ 1152921504606846976 -4611677256458621887]\n",
      " [     140191500468226      703141453891216]]\n"
     ]
    }
   ],
   "source": [
    "empt1 = np.zeros((2,2))\n",
    "empt3 = np.empty((2,2), dtype=int)\n",
    "print(f\"Empty array via zeros():{empt1}\")\n",
    "print(f\"Empty array via empty():{empt3}\")"
   ]
  },
  {
   "cell_type": "markdown",
   "metadata": {},
   "source": [
    "#### D. NAN\n",
    "If we want to emulate missing values within a numpy array, we can use np.nan\n",
    "**Note**: np.nan doesn't work on arrays with **dtype=int**\n",
    "\n",
    "**E.g**:-"
   ]
  },
  {
   "cell_type": "code",
   "execution_count": 20,
   "metadata": {},
   "outputs": [
    {
     "name": "stdout",
     "output_type": "stream",
     "text": [
      "nan with floats:  [nan 2.3 nan]\n",
      "nan with strings:  ['nan' 'Hi' 'Numpy']\n"
     ]
    },
    {
     "ename": "ValueError",
     "evalue": "cannot convert float NaN to integer",
     "output_type": "error",
     "traceback": [
      "\u001b[0;31m---------------------------------------------------------------------------\u001b[0m",
      "\u001b[0;31mValueError\u001b[0m                                Traceback (most recent call last)",
      "\u001b[0;32m<ipython-input-20-506cd1531bb5>\u001b[0m in \u001b[0;36m<module>\u001b[0;34m\u001b[0m\n\u001b[1;32m      1\u001b[0m \u001b[0mprint\u001b[0m\u001b[0;34m(\u001b[0m\u001b[0;34m\"nan with floats: \"\u001b[0m\u001b[0;34m,\u001b[0m \u001b[0mnp\u001b[0m\u001b[0;34m.\u001b[0m\u001b[0marray\u001b[0m\u001b[0;34m(\u001b[0m\u001b[0;34m[\u001b[0m\u001b[0mnp\u001b[0m\u001b[0;34m.\u001b[0m\u001b[0mnan\u001b[0m\u001b[0;34m,\u001b[0m\u001b[0;36m2.3\u001b[0m\u001b[0;34m,\u001b[0m\u001b[0mnp\u001b[0m\u001b[0;34m.\u001b[0m\u001b[0mnan\u001b[0m\u001b[0;34m]\u001b[0m\u001b[0;34m)\u001b[0m\u001b[0;34m)\u001b[0m\u001b[0;34m\u001b[0m\u001b[0;34m\u001b[0m\u001b[0m\n\u001b[1;32m      2\u001b[0m \u001b[0mprint\u001b[0m\u001b[0;34m(\u001b[0m\u001b[0;34m\"nan with strings: \"\u001b[0m\u001b[0;34m,\u001b[0m\u001b[0mnp\u001b[0m\u001b[0;34m.\u001b[0m\u001b[0marray\u001b[0m\u001b[0;34m(\u001b[0m\u001b[0;34m[\u001b[0m\u001b[0mnp\u001b[0m\u001b[0;34m.\u001b[0m\u001b[0mnan\u001b[0m\u001b[0;34m,\u001b[0m\u001b[0;34m\"Hi\"\u001b[0m\u001b[0;34m,\u001b[0m\u001b[0;34m\"Numpy\"\u001b[0m\u001b[0;34m]\u001b[0m\u001b[0;34m)\u001b[0m\u001b[0;34m)\u001b[0m\u001b[0;34m\u001b[0m\u001b[0;34m\u001b[0m\u001b[0m\n\u001b[0;32m----> 3\u001b[0;31m \u001b[0mprint\u001b[0m\u001b[0;34m(\u001b[0m\u001b[0;34m\"nan with integers; this will throw error: \"\u001b[0m\u001b[0;34m,\u001b[0m\u001b[0mnp\u001b[0m\u001b[0;34m.\u001b[0m\u001b[0marray\u001b[0m\u001b[0;34m(\u001b[0m\u001b[0;34m[\u001b[0m\u001b[0mnp\u001b[0m\u001b[0;34m.\u001b[0m\u001b[0mnan\u001b[0m\u001b[0;34m,\u001b[0m \u001b[0;36m1\u001b[0m\u001b[0;34m,\u001b[0m \u001b[0;36m2\u001b[0m\u001b[0;34m]\u001b[0m\u001b[0;34m,\u001b[0m \u001b[0mdtype\u001b[0m\u001b[0;34m=\u001b[0m\u001b[0mnp\u001b[0m\u001b[0;34m.\u001b[0m\u001b[0mint32\u001b[0m\u001b[0;34m)\u001b[0m\u001b[0;34m)\u001b[0m\u001b[0;34m\u001b[0m\u001b[0;34m\u001b[0m\u001b[0m\n\u001b[0m",
      "\u001b[0;31mValueError\u001b[0m: cannot convert float NaN to integer"
     ]
    }
   ],
   "source": [
    "print(\"nan with floats: \", np.array([np.nan,2.3,np.nan]))\n",
    "print(\"nan with strings: \",np.array([np.nan,\"Hi\",\"Numpy\"]))\n",
    "print(\"nan with integers; this will throw error: \",np.array([np.nan, 1, 2], dtype=np.int32))\n"
   ]
  },
  {
   "cell_type": "markdown",
   "metadata": {},
   "source": [
    "### Solved Assigments"
   ]
  },
  {
   "cell_type": "markdown",
   "metadata": {},
   "source": [
    "#### 1. Create a 1-D numpy array and describe its properties"
   ]
  },
  {
   "cell_type": "code",
   "execution_count": 21,
   "metadata": {},
   "outputs": [
    {
     "data": {
      "text/plain": [
       "array([21, 22, 33])"
      ]
     },
     "execution_count": 21,
     "metadata": {},
     "output_type": "execute_result"
    }
   ],
   "source": [
    "a=np.array([21,22,33])\n",
    "a"
   ]
  },
  {
   "cell_type": "code",
   "execution_count": 22,
   "metadata": {},
   "outputs": [
    {
     "name": "stdout",
     "output_type": "stream",
     "text": [
      "Shape of array a is: (3,)\n",
      "**Remember that Shape of array returns a: <class 'tuple'>**\n",
      "\n",
      "Dimension of array a is: 1\n",
      "Number of elements of array a is: 3\n"
     ]
    }
   ],
   "source": [
    "## np.shape: This is a tuple of integers indicating the size of the array in each dimension.\n",
    "## For a matrix with n rows and m columns, shape will be (n,m). \n",
    "print(f\"Shape of array a is: {a.shape}\") ## a is a Rank 1 array (which is essentially a vector)\n",
    "\n",
    "print(f\"**Remember that Shape of array returns a: {type(a.shape)}**\\n\")\n",
    "\n",
    "\n",
    "## np.dim: In NumPy dimensions are called axes. The length of the shape tuple is therefore the number of axes, ndim.\n",
    "print(f\"Dimension of array a is: {a.ndim}\") ## 1-d array\n",
    "\n",
    "## np.size: The total number of elements of the array. This is equal to the product of the elements of shape.\n",
    "print(f\"Number of elements of array a is: {a.size}\") ## 1-d array\n"
   ]
  },
  {
   "cell_type": "markdown",
   "metadata": {},
   "source": [
    "#### 2. Create a 2-D numpy array and describe its properties"
   ]
  },
  {
   "cell_type": "code",
   "execution_count": 23,
   "metadata": {},
   "outputs": [
    {
     "data": {
      "text/plain": [
       "array([[120, 131, 142],\n",
       "       [135, 154,  15]])"
      ]
     },
     "execution_count": 23,
     "metadata": {},
     "output_type": "execute_result"
    }
   ],
   "source": [
    "b=np.array([[120,131,142],[135,154,15]])\n",
    "b"
   ]
  },
  {
   "cell_type": "code",
   "execution_count": 24,
   "metadata": {},
   "outputs": [
    {
     "name": "stdout",
     "output_type": "stream",
     "text": [
      "Shape of array b is: (2, 3)\n",
      "Dimension of array b is: 2\n",
      "Dimension of array b is (calculated via shape property): 2\n",
      "Number of elements of array b is: 6\n"
     ]
    }
   ],
   "source": [
    "print(f\"Shape of array b is: {b.shape}\")\n",
    "print(f\"Dimension of array b is: {b.ndim}\") \n",
    "print(f\"Dimension of array b is (calculated via shape property): {len(b.shape)}\")\n",
    "print(f\"Number of elements of array b is: {b.size}\") "
   ]
  },
  {
   "cell_type": "markdown",
   "metadata": {},
   "source": [
    "#### 3. Check if an array is empty"
   ]
  },
  {
   "cell_type": "code",
   "execution_count": 25,
   "metadata": {},
   "outputs": [
    {
     "name": "stdout",
     "output_type": "stream",
     "text": [
      "Array is empty\n"
     ]
    }
   ],
   "source": [
    "# Using size property\n",
    "empt = np.array([])\n",
    "if empt.size == 0:\n",
    "    print(\"Array is empty\")\n",
    "else:\n",
    "    print(\"Array is not empty\")"
   ]
  },
  {
   "cell_type": "markdown",
   "metadata": {},
   "source": [
    "#### 4. Create an array with zeros"
   ]
  },
  {
   "cell_type": "code",
   "execution_count": 26,
   "metadata": {},
   "outputs": [
    {
     "data": {
      "text/plain": [
       "array([[0., 0.],\n",
       "       [0., 0.]])"
      ]
     },
     "execution_count": 26,
     "metadata": {},
     "output_type": "execute_result"
    }
   ],
   "source": [
    "c=np.zeros((2,2))\n",
    "c"
   ]
  },
  {
   "cell_type": "markdown",
   "metadata": {},
   "source": [
    "#### 5. Create an array with ones"
   ]
  },
  {
   "cell_type": "code",
   "execution_count": 27,
   "metadata": {},
   "outputs": [
    {
     "data": {
      "text/plain": [
       "array([[1., 1., 1.],\n",
       "       [1., 1., 1.]])"
      ]
     },
     "execution_count": 27,
     "metadata": {},
     "output_type": "execute_result"
    }
   ],
   "source": [
    "d=np.ones((2,3))\n",
    "d"
   ]
  },
  {
   "cell_type": "markdown",
   "metadata": {},
   "source": [
    "#### 6. Create a numpy array of size 10, filled with zeros"
   ]
  },
  {
   "cell_type": "code",
   "execution_count": 34,
   "metadata": {},
   "outputs": [
    {
     "name": "stdout",
     "output_type": "stream",
     "text": [
      "Option 1:[0. 0. 0. 0. 0. 0. 0. 0. 0. 0.]\n",
      "Option 2:[0. 0. 0. 0. 0. 0. 0. 0. 0. 0.]\n",
      "Option 3:[0. 0. 0. 0. 0. 0. 0. 0. 0. 0.]\n",
      "Option 4:[0. 0. 0. 0. 0. 0. 0. 0. 0. 0.]\n"
     ]
    }
   ],
   "source": [
    "print(f\"Option 1:{np.zeros(10)}\") # recommmmended approach\n",
    "print(f\"Option 2:{np.array([0.0]*10)}\")\n",
    "lst=[]\n",
    "for i in range(10):\n",
    "    lst.append(0.0)\n",
    "    \n",
    "print(f\"Option 3:{np.asarray(lst)}\")   # np.asarray: Convert the input to an array\n",
    "print(f\"Option 4:{np.array(lst)}\")"
   ]
  },
  {
   "cell_type": "markdown",
   "metadata": {},
   "source": [
    "#### 7. Create an integer array of size 5, filled with zeros"
   ]
  },
  {
   "cell_type": "code",
   "execution_count": 35,
   "metadata": {},
   "outputs": [
    {
     "data": {
      "text/plain": [
       "array([0, 0, 0, 0, 0])"
      ]
     },
     "execution_count": 35,
     "metadata": {},
     "output_type": "execute_result"
    }
   ],
   "source": [
    "np.zeros(5, dtype=int)"
   ]
  },
  {
   "cell_type": "markdown",
   "metadata": {},
   "source": [
    "#### 8. Create a 2x3 floating-point array filled with 1s"
   ]
  },
  {
   "cell_type": "code",
   "execution_count": 83,
   "metadata": {},
   "outputs": [
    {
     "data": {
      "text/plain": [
       "array([[1., 1., 1.],\n",
       "       [1., 1., 1.],\n",
       "       [1., 1., 1.]])"
      ]
     },
     "execution_count": 83,
     "metadata": {},
     "output_type": "execute_result"
    }
   ],
   "source": [
    "np.ones((2, 3), dtype=float)"
   ]
  },
  {
   "cell_type": "markdown",
   "metadata": {},
   "source": [
    "#### 9. Create an array filled with a linear sequence (Starting at 5, ending at 26, stepping by 3)"
   ]
  },
  {
   "cell_type": "code",
   "execution_count": 84,
   "metadata": {},
   "outputs": [
    {
     "data": {
      "text/plain": [
       "array([ 5,  8, 11, 14, 17, 20, 23, 26])"
      ]
     },
     "execution_count": 84,
     "metadata": {},
     "output_type": "execute_result"
    }
   ],
   "source": [
    "# (this is similar to the built-in range() function)\n",
    "np.arange(5, 27, 3)"
   ]
  },
  {
   "cell_type": "markdown",
   "metadata": {},
   "source": [
    "#### 10. Create an array of regularly spaced numbers beginning at 10, ending with 18.4 using an increment of 0.6"
   ]
  },
  {
   "cell_type": "code",
   "execution_count": 37,
   "metadata": {},
   "outputs": [
    {
     "data": {
      "text/plain": [
       "array([10. , 10.6, 11.2, 11.8, 12.4, 13. , 13.6, 14.2, 14.8, 15.4, 16. ,\n",
       "       16.6, 17.2, 17.8, 18.4])"
      ]
     },
     "execution_count": 37,
     "metadata": {},
     "output_type": "execute_result"
    }
   ],
   "source": [
    "np.arange(10,18.5,0.6)"
   ]
  },
  {
   "cell_type": "markdown",
   "metadata": {},
   "source": [
    "#### 11. Create a numpy array with values ranging from 30 to 45 "
   ]
  },
  {
   "cell_type": "code",
   "execution_count": 38,
   "metadata": {},
   "outputs": [
    {
     "data": {
      "text/plain": [
       "array([30, 31, 32, 33, 34, 35, 36, 37, 38, 39, 40, 41, 42, 43, 44, 45])"
      ]
     },
     "execution_count": 38,
     "metadata": {},
     "output_type": "execute_result"
    }
   ],
   "source": [
    "np.arange(30,46)"
   ]
  },
  {
   "cell_type": "markdown",
   "metadata": {},
   "source": [
    "#### 12. Given a numpy array, create a new  array with the same shape and type as the given array, filled with ones."
   ]
  },
  {
   "cell_type": "code",
   "execution_count": 44,
   "metadata": {},
   "outputs": [
    {
     "name": "stdout",
     "output_type": "stream",
     "text": [
      "Given array:\n",
      "[[0 1 2 3 4]\n",
      " [5 6 7 8 9]]\n",
      "New array with 1s similar to g \n",
      "[[1 1 1 1 1]\n",
      " [1 1 1 1 1]]\n"
     ]
    }
   ],
   "source": [
    "g = np.arange(10).reshape(2,5) # e.g. given array\n",
    "print(f\"Given array:\")\n",
    "print(g)\n",
    "\n",
    "n = np.ones_like(g)\n",
    "print(f\"New array with 1s similar to g \")\n",
    "print(n)"
   ]
  },
  {
   "cell_type": "markdown",
   "metadata": {},
   "source": [
    "#### 13. Given a numpy array, create a new array with the same shape  as the given array, filled with zeros. The type of new array should be float"
   ]
  },
  {
   "cell_type": "code",
   "execution_count": 45,
   "metadata": {},
   "outputs": [
    {
     "name": "stdout",
     "output_type": "stream",
     "text": [
      "Given array:\n",
      "[[0 1 2 3 4]\n",
      " [5 6 7 8 9]]\n",
      "New array with 0s similar to g \n",
      "[[0. 0. 0. 0. 0.]\n",
      " [0. 0. 0. 0. 0.]]\n"
     ]
    }
   ],
   "source": [
    "g = np.arange(10).reshape(2,5) # e.g. given array\n",
    "print(f\"Given array:\")\n",
    "print(g)\n",
    "\n",
    "n = np.zeros_like(g, dtype= np.float32)\n",
    "print(f\"New array with 0s similar to g \")\n",
    "print(n)"
   ]
  },
  {
   "cell_type": "markdown",
   "metadata": {},
   "source": [
    "#### 14. Given a numpy array, create a new array with the same shape and type as the given array, filled with 10"
   ]
  },
  {
   "cell_type": "code",
   "execution_count": 37,
   "metadata": {},
   "outputs": [
    {
     "name": "stdout",
     "output_type": "stream",
     "text": [
      "Option 1:\n",
      "[[10 10 10 10 10]\n",
      " [10 10 10 10 10]]\n",
      "Option 2:\n",
      "[[10 10 10 10 10]\n",
      " [10 10 10 10 10]]\n"
     ]
    }
   ],
   "source": [
    "# Assuming that g is the given array\n",
    "print(\"Option 1:\")\n",
    "print(np.full(g.shape,10)) # np.full() takes the shape of the given array and the value to fill\n",
    "print(f\"Option 2:\")\n",
    "print(np.full_like(g,10))  # np.full_like() takes the the given array and the value to fill"
   ]
  },
  {
   "cell_type": "markdown",
   "metadata": {},
   "source": [
    "**15. Given a numpy array, create a new array with the same shape and type as the given array, filled with nan**"
   ]
  },
  {
   "cell_type": "code",
   "execution_count": 93,
   "metadata": {},
   "outputs": [
    {
     "name": "stdout",
     "output_type": "stream",
     "text": [
      "[[-9223372036854775808 -9223372036854775808 -9223372036854775808\n",
      "  -9223372036854775808 -9223372036854775808]\n",
      " [-9223372036854775808 -9223372036854775808 -9223372036854775808\n",
      "  -9223372036854775808 -9223372036854775808]]\n"
     ]
    }
   ],
   "source": [
    "# Assuming that g is the given array\n",
    "print(np.full_like(g,np.nan))"
   ]
  },
  {
   "cell_type": "markdown",
   "metadata": {},
   "source": [
    "#### 16. Create a numpy matrix of 3*3 integers, filled with fives"
   ]
  },
  {
   "cell_type": "code",
   "execution_count": 39,
   "metadata": {},
   "outputs": [
    {
     "data": {
      "text/plain": [
       "array([[5, 5, 5],\n",
       "       [5, 5, 5],\n",
       "       [5, 5, 5]])"
      ]
     },
     "execution_count": 39,
     "metadata": {},
     "output_type": "execute_result"
    }
   ],
   "source": [
    "np.full((3,3),5,dtype=int)"
   ]
  },
  {
   "cell_type": "markdown",
   "metadata": {},
   "source": [
    "#### 17. Create a 4*4 identity numpy matrix "
   ]
  },
  {
   "cell_type": "code",
   "execution_count": 46,
   "metadata": {},
   "outputs": [
    {
     "data": {
      "text/plain": [
       "array([[1., 0., 0., 0.],\n",
       "       [0., 1., 0., 0.],\n",
       "       [0., 0., 1., 0.],\n",
       "       [0., 0., 0., 1.]])"
      ]
     },
     "execution_count": 46,
     "metadata": {},
     "output_type": "execute_result"
    }
   ],
   "source": [
    "np.eye(4)"
   ]
  },
  {
   "cell_type": "markdown",
   "metadata": {},
   "source": [
    "#### 18. Create a numpy array with numbers from 11 to 20"
   ]
  },
  {
   "cell_type": "code",
   "execution_count": 44,
   "metadata": {},
   "outputs": [
    {
     "data": {
      "text/plain": [
       "array([11, 12, 13, 14, 15, 16, 17, 18, 19, 20])"
      ]
     },
     "execution_count": 44,
     "metadata": {},
     "output_type": "execute_result"
    }
   ],
   "source": [
    "np.arange(11,21)"
   ]
  },
  {
   "cell_type": "markdown",
   "metadata": {},
   "source": [
    "#### 19. Create an array of 20 values evenly spaced between 2 and 30"
   ]
  },
  {
   "cell_type": "code",
   "execution_count": 22,
   "metadata": {},
   "outputs": [
    {
     "data": {
      "text/plain": [
       "array([ 2.        ,  3.47368421,  4.94736842,  6.42105263,  7.89473684,\n",
       "        9.36842105, 10.84210526, 12.31578947, 13.78947368, 15.26315789,\n",
       "       16.73684211, 18.21052632, 19.68421053, 21.15789474, 22.63157895,\n",
       "       24.10526316, 25.57894737, 27.05263158, 28.52631579, 30.        ])"
      ]
     },
     "execution_count": 22,
     "metadata": {},
     "output_type": "execute_result"
    }
   ],
   "source": [
    "np.linspace(2, 30, 20)"
   ]
  },
  {
   "cell_type": "markdown",
   "metadata": {},
   "source": [
    "**20. Solve for the below set of equations**\n",
    "\n",
    "x + 2y + 4z = 7,\n",
    "3x + 7y + 2z = −11,\n",
    "2x + 3y + 3z = 1"
   ]
  },
  {
   "cell_type": "code",
   "execution_count": 9,
   "metadata": {},
   "outputs": [
    {
     "name": "stdout",
     "output_type": "stream",
     "text": [
      "The solution for x,y,z is:  [-1. -2.  3.]\n"
     ]
    }
   ],
   "source": [
    "P = np.array([[1,2,4],[3,7,2],[2,3,3]])\n",
    "Q = np.array([7,-11,1])\n",
    "# Px = Q\n",
    "x = np.linalg.solve(P, Q)\n",
    "print(\"The solution for x,y,z is: \",x)"
   ]
  },
  {
   "cell_type": "code",
   "execution_count": null,
   "metadata": {},
   "outputs": [],
   "source": []
  },
  {
   "cell_type": "code",
   "execution_count": null,
   "metadata": {},
   "outputs": [],
   "source": []
  },
  {
   "cell_type": "code",
   "execution_count": null,
   "metadata": {},
   "outputs": [],
   "source": []
  },
  {
   "cell_type": "code",
   "execution_count": null,
   "metadata": {},
   "outputs": [],
   "source": []
  },
  {
   "cell_type": "code",
   "execution_count": null,
   "metadata": {},
   "outputs": [],
   "source": []
  }
 ],
 "metadata": {
  "kernelspec": {
   "display_name": "Python 3",
   "language": "python",
   "name": "python3"
  },
  "language_info": {
   "codemirror_mode": {
    "name": "ipython",
    "version": 3
   },
   "file_extension": ".py",
   "mimetype": "text/x-python",
   "name": "python",
   "nbconvert_exporter": "python",
   "pygments_lexer": "ipython3",
   "version": "3.7.7"
  }
 },
 "nbformat": 4,
 "nbformat_minor": 4
}
