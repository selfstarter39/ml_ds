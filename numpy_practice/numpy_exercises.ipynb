{
 "cells": [
  {
   "cell_type": "markdown",
   "metadata": {},
   "source": [
    "### Numpy - A Big List of Assignments to practice\n",
    "\n",
    "- A learn-by-doing approach\n",
    "- Solutions to every problem\n",
    "- Ready to use code/solution"
   ]
  },
  {
   "cell_type": "code",
   "execution_count": 1,
   "metadata": {},
   "outputs": [],
   "source": [
    "import numpy as np"
   ]
  },
  {
   "cell_type": "markdown",
   "metadata": {},
   "source": [
    "#### Note\n",
    "Remember that NumPy arrays have a **defined data type**. This means **you are not able to insert strings into an integer type array**. NumPy is mostly used with double-precision data types."
   ]
  },
  {
   "cell_type": "markdown",
   "metadata": {},
   "source": [
    "#### Create a 1-D numpy array and describe its properties"
   ]
  },
  {
   "cell_type": "code",
   "execution_count": 2,
   "metadata": {},
   "outputs": [
    {
     "data": {
      "text/plain": [
       "array([21, 22, 33])"
      ]
     },
     "execution_count": 2,
     "metadata": {},
     "output_type": "execute_result"
    }
   ],
   "source": [
    "a=np.array([21,22,33])\n",
    "a"
   ]
  },
  {
   "cell_type": "code",
   "execution_count": 3,
   "metadata": {},
   "outputs": [
    {
     "name": "stdout",
     "output_type": "stream",
     "text": [
      "Shape of array a is: (3,)\n",
      "**Remember that Shape of array returns a: <class 'tuple'>**\n",
      "\n",
      "Dimension of array a is: 1\n",
      "Number of elements of array a is: 3\n"
     ]
    }
   ],
   "source": [
    "## np.shape: This is a tuple of integers indicating the size of the array in each dimension.\n",
    "## For a matrix with n rows and m columns, shape will be (n,m). \n",
    "print(f\"Shape of array a is: {a.shape}\") ## a is a Rank 1 array (which is essentially a vector)\n",
    "\n",
    "print(f\"**Remember that Shape of array returns a: {type(a.shape)}**\\n\")\n",
    "\n",
    "\n",
    "## np.dim: In NumPy dimensions are called axes. The length of the shape tuple is therefore the number of axes, ndim.\n",
    "print(f\"Dimension of array a is: {a.ndim}\") ## 1-d array\n",
    "\n",
    "## The total number of elements of the array. This is equal to the product of the elements of shape.\n",
    "print(f\"Number of elements of array a is: {a.size}\") ## 1-d array\n"
   ]
  },
  {
   "cell_type": "markdown",
   "metadata": {},
   "source": [
    "#### Create a 2-D numpy array and describe its properties"
   ]
  },
  {
   "cell_type": "code",
   "execution_count": 4,
   "metadata": {},
   "outputs": [
    {
     "data": {
      "text/plain": [
       "array([[120, 131, 142],\n",
       "       [135, 154,  15]])"
      ]
     },
     "execution_count": 4,
     "metadata": {},
     "output_type": "execute_result"
    }
   ],
   "source": [
    "b=np.array([[120,131,142],[135,154,15]])\n",
    "b"
   ]
  },
  {
   "cell_type": "code",
   "execution_count": 5,
   "metadata": {},
   "outputs": [
    {
     "name": "stdout",
     "output_type": "stream",
     "text": [
      "Shape of array b is: (2, 3)\n",
      "Dimension of array b is: 2\n",
      "Dimension of array b is (calculated via shape property): 2\n",
      "Number of elements of array b is: 6\n"
     ]
    }
   ],
   "source": [
    "print(f\"Shape of array b is: {b.shape}\")\n",
    "print(f\"Dimension of array b is: {b.ndim}\") \n",
    "print(f\"Dimension of array b is (calculated via shape property): {len(b.shape)}\")\n",
    "print(f\"Number of elements of array b is: {b.size}\") "
   ]
  },
  {
   "cell_type": "markdown",
   "metadata": {},
   "source": [
    "#### Check if an array is empty"
   ]
  },
  {
   "cell_type": "code",
   "execution_count": 6,
   "metadata": {},
   "outputs": [
    {
     "name": "stdout",
     "output_type": "stream",
     "text": [
      "Array is empty\n"
     ]
    }
   ],
   "source": [
    "# Using size property\n",
    "empt = np.array([])\n",
    "if empt.size == 0:\n",
    "    print(\"Array is empty\")\n",
    "else:\n",
    "    print(\"Array is not empty\")"
   ]
  },
  {
   "cell_type": "markdown",
   "metadata": {},
   "source": [
    "#### Create an array with zeros"
   ]
  },
  {
   "cell_type": "code",
   "execution_count": 7,
   "metadata": {},
   "outputs": [
    {
     "data": {
      "text/plain": [
       "array([[0., 0.],\n",
       "       [0., 0.]])"
      ]
     },
     "execution_count": 7,
     "metadata": {},
     "output_type": "execute_result"
    }
   ],
   "source": [
    "c=np.zeros((2,2))\n",
    "c"
   ]
  },
  {
   "cell_type": "markdown",
   "metadata": {},
   "source": [
    "#### Create an array with ones"
   ]
  },
  {
   "cell_type": "code",
   "execution_count": 8,
   "metadata": {},
   "outputs": [
    {
     "data": {
      "text/plain": [
       "array([[1., 1., 1.],\n",
       "       [1., 1., 1.]])"
      ]
     },
     "execution_count": 8,
     "metadata": {},
     "output_type": "execute_result"
    }
   ],
   "source": [
    "d=np.ones((2,3))\n",
    "d"
   ]
  },
  {
   "cell_type": "markdown",
   "metadata": {},
   "source": [
    "#### Create a numpy array of size 10, filled with zeros"
   ]
  },
  {
   "cell_type": "code",
   "execution_count": 16,
   "metadata": {},
   "outputs": [
    {
     "name": "stdout",
     "output_type": "stream",
     "text": [
      "Option 1:[0. 0. 0. 0. 0. 0. 0. 0. 0. 0.]\n",
      "Option 2:[0. 0. 0. 0. 0. 0. 0. 0. 0. 0.]\n",
      "Option 3:[0. 0. 0. 0. 0. 0. 0. 0. 0. 0.]\n"
     ]
    }
   ],
   "source": [
    "print(f\"Option 1:{np.zeros(10)}\") # recommmmended approach\n",
    "print(f\"Option 2:{np.array([0.0]*10)}\")\n",
    "lst=[]\n",
    "for i in range(10):\n",
    "    lst.append(0.0)\n",
    "    \n",
    "print(f\"Option 3:{np.asarray(lst)}\")   # np.asarray: Convert the input to an array"
   ]
  },
  {
   "cell_type": "markdown",
   "metadata": {},
   "source": [
    "#### Create an integer array of size 5, filled with zeros"
   ]
  },
  {
   "cell_type": "code",
   "execution_count": 19,
   "metadata": {},
   "outputs": [
    {
     "data": {
      "text/plain": [
       "array([0, 0, 0, 0, 0])"
      ]
     },
     "execution_count": 19,
     "metadata": {},
     "output_type": "execute_result"
    }
   ],
   "source": [
    "np.zeros(5, dtype=int)"
   ]
  },
  {
   "cell_type": "markdown",
   "metadata": {},
   "source": [
    "#### Create a 2x3 floating-point array filled with 1s"
   ]
  },
  {
   "cell_type": "code",
   "execution_count": 20,
   "metadata": {},
   "outputs": [
    {
     "data": {
      "text/plain": [
       "array([[1., 1., 1.],\n",
       "       [1., 1., 1.],\n",
       "       [1., 1., 1.]])"
      ]
     },
     "execution_count": 20,
     "metadata": {},
     "output_type": "execute_result"
    }
   ],
   "source": [
    "np.ones((3, 3), dtype=float)"
   ]
  },
  {
   "cell_type": "markdown",
   "metadata": {},
   "source": [
    "#### Create an array filled with a linear sequence (Starting at 5, ending at 25, stepping by 3)"
   ]
  },
  {
   "cell_type": "code",
   "execution_count": 23,
   "metadata": {},
   "outputs": [
    {
     "data": {
      "text/plain": [
       "array([ 5,  8, 11, 14, 17, 20, 23])"
      ]
     },
     "execution_count": 23,
     "metadata": {},
     "output_type": "execute_result"
    }
   ],
   "source": [
    "# (this is similar to the built-in range() function)\n",
    "np.arange(5, 25, 3)"
   ]
  },
  {
   "cell_type": "markdown",
   "metadata": {},
   "source": [
    "#### Create an array of 20 values evenly spaced between 2 and 30"
   ]
  },
  {
   "cell_type": "code",
   "execution_count": 22,
   "metadata": {},
   "outputs": [
    {
     "data": {
      "text/plain": [
       "array([ 2.        ,  3.47368421,  4.94736842,  6.42105263,  7.89473684,\n",
       "        9.36842105, 10.84210526, 12.31578947, 13.78947368, 15.26315789,\n",
       "       16.73684211, 18.21052632, 19.68421053, 21.15789474, 22.63157895,\n",
       "       24.10526316, 25.57894737, 27.05263158, 28.52631579, 30.        ])"
      ]
     },
     "execution_count": 22,
     "metadata": {},
     "output_type": "execute_result"
    }
   ],
   "source": [
    "np.linspace(2, 30, 20)"
   ]
  },
  {
   "cell_type": "code",
   "execution_count": null,
   "metadata": {},
   "outputs": [],
   "source": []
  },
  {
   "cell_type": "code",
   "execution_count": null,
   "metadata": {},
   "outputs": [],
   "source": []
  },
  {
   "cell_type": "code",
   "execution_count": null,
   "metadata": {},
   "outputs": [],
   "source": []
  }
 ],
 "metadata": {
  "kernelspec": {
   "display_name": "Python 3",
   "language": "python",
   "name": "python3"
  },
  "language_info": {
   "codemirror_mode": {
    "name": "ipython",
    "version": 3
   },
   "file_extension": ".py",
   "mimetype": "text/x-python",
   "name": "python",
   "nbconvert_exporter": "python",
   "pygments_lexer": "ipython3",
   "version": "3.7.7"
  }
 },
 "nbformat": 4,
 "nbformat_minor": 4
}
