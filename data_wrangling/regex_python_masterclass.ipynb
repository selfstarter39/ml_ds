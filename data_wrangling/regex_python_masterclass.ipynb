{
 "cells": [
  {
   "cell_type": "markdown",
   "metadata": {},
   "source": [
    "## Python Regex - An exhaustive guide with examples"
   ]
  },
  {
   "cell_type": "markdown",
   "metadata": {},
   "source": [
    "**Note**:\n",
    "- This notebook is built on `learn-by-doing` principle.\n",
    "- A lot of code examples with proper explanation will be given.\n",
    "- For thorough understanding of any built-in regex function, please refer to official python doc.\n",
    "- **re** module is the powerhouse. So it's a must import."
   ]
  },
  {
   "cell_type": "code",
   "execution_count": 1,
   "metadata": {},
   "outputs": [],
   "source": [
    "import re"
   ]
  },
  {
   "cell_type": "markdown",
   "metadata": {},
   "source": [
    "### Simple patterns (letter, word etc.) via re.search()\n",
    "\n",
    "- Function signature:`re.search(pattern,string-to-perform-search)`\n",
    "- If search is successful, return -> match object\n",
    "- Else return -> None\n",
    "\n",
    ">- Format: re.search(**r\"pattern\"**,string-to-perform-search))\n",
    "- `r\"pattern\"` has a special meaning. It stands for a `raw python string`, which in plain english is a directive to the interpreter to interpret the given pattern literally. (thus a  `print(\"\\n\")` will generate a newline, while  `print(r\"\\n\")` will output `r\"\\n\"`. "
   ]
  },
  {
   "cell_type": "code",
   "execution_count": 1,
   "metadata": {},
   "outputs": [
    {
     "name": "stdout",
     "output_type": "stream",
     "text": [
      "\n",
      "\n"
     ]
    }
   ],
   "source": [
    "print(\"\\n\")"
   ]
  },
  {
   "cell_type": "code",
   "execution_count": 2,
   "metadata": {},
   "outputs": [
    {
     "name": "stdout",
     "output_type": "stream",
     "text": [
      "\\n\n"
     ]
    }
   ],
   "source": [
    "print(r\"\\n\")"
   ]
  },
  {
   "cell_type": "code",
   "execution_count": 4,
   "metadata": {},
   "outputs": [
    {
     "data": {
      "text/plain": [
       "<re.Match object; span=(0, 1), match='b'>"
      ]
     },
     "execution_count": 4,
     "metadata": {},
     "output_type": "execute_result"
    }
   ],
   "source": [
    "#Example:\n",
    "re.search(r\"b\",\"badboy\")"
   ]
  },
  {
   "cell_type": "code",
   "execution_count": 5,
   "metadata": {},
   "outputs": [
    {
     "data": {
      "text/plain": [
       "'b'"
      ]
     },
     "execution_count": 5,
     "metadata": {},
     "output_type": "execute_result"
    }
   ],
   "source": [
    "re.search(r\"b\",\"badboy\").group()"
   ]
  },
  {
   "cell_type": "markdown",
   "metadata": {},
   "source": [
    "### Observations from above:\n",
    "- Search starts at pos 0\n",
    "- Search ends at pos 1\n",
    "- group() method stores the searched pattern"
   ]
  },
  {
   "cell_type": "code",
   "execution_count": 6,
   "metadata": {},
   "outputs": [
    {
     "data": {
      "text/plain": [
       "'b'"
      ]
     },
     "execution_count": 6,
     "metadata": {},
     "output_type": "execute_result"
    }
   ],
   "source": [
    "re.search(r\"b\",\"badboy\").group()"
   ]
  },
  {
   "cell_type": "code",
   "execution_count": 7,
   "metadata": {},
   "outputs": [],
   "source": [
    "#Example: let's wrap the abv within a function\n",
    "def func1(pattern, string):\n",
    "    match_obj = re.search(pattern, string)\n",
    "    if match_obj:\n",
    "        print(f\"Found a match for {match_obj.group()} in: {string}\")\n",
    "    else:\n",
    "        print(\"Pattern not found\")   "
   ]
  },
  {
   "cell_type": "code",
   "execution_count": 8,
   "metadata": {},
   "outputs": [],
   "source": [
    "pat1 = r\"n\"\n",
    "pat2 = r\"cat\""
   ]
  },
  {
   "cell_type": "code",
   "execution_count": 9,
   "metadata": {},
   "outputs": [
    {
     "name": "stdout",
     "output_type": "stream",
     "text": [
      "Found a match for n in: number\n"
     ]
    }
   ],
   "source": [
    "func1(pat1,\"number\")"
   ]
  },
  {
   "cell_type": "code",
   "execution_count": 10,
   "metadata": {},
   "outputs": [
    {
     "name": "stdout",
     "output_type": "stream",
     "text": [
      "Found a match for cat in: There's one caterpillar and a cat in the closet\n"
     ]
    }
   ],
   "source": [
    "func1(pat2,\"There's one caterpillar and a cat in the closet\") # note that only the 1st occurance of cat is matched"
   ]
  },
  {
   "cell_type": "code",
   "execution_count": 11,
   "metadata": {},
   "outputs": [
    {
     "name": "stdout",
     "output_type": "stream",
     "text": [
      "Pattern not found\n"
     ]
    }
   ],
   "source": [
    "func1(pat2,\"There's one Caterpillar and a Cat in the closet\") # note: cat and Cat are different"
   ]
  },
  {
   "cell_type": "code",
   "execution_count": 12,
   "metadata": {},
   "outputs": [
    {
     "data": {
      "text/plain": [
       "'Cat'"
      ]
     },
     "execution_count": 12,
     "metadata": {},
     "output_type": "execute_result"
    }
   ],
   "source": [
    "# Ignoring case via re.IGNORECASE\n",
    "re.search(r\"cat\",\"There's one Caterpillar and a Cat in the closet\",re.IGNORECASE).group() # note: this will work"
   ]
  },
  {
   "cell_type": "code",
   "execution_count": 5,
   "metadata": {},
   "outputs": [
    {
     "data": {
      "text/plain": [
       "<re.Match object; span=(12, 15), match='cat'>"
      ]
     },
     "execution_count": 5,
     "metadata": {},
     "output_type": "execute_result"
    }
   ],
   "source": [
    "re.search(r\"[cC]at\",\"There's one caterpillar in the closet\") # note: this will also work"
   ]
  },
  {
   "cell_type": "markdown",
   "metadata": {},
   "source": [
    "### Big Idea:\n",
    "- `r\"a\"` matches `a` at any place within the string\n",
    "- `r\"bit\"` matches `bit,fitbit,bite,bitten etc.`, but doesn't match `biit,bid etc.`\n",
    "- `re.IGNORECASE` can be used to take care of both upper and lowercases; or character class can also be used."
   ]
  },
  {
   "cell_type": "markdown",
   "metadata": {},
   "source": [
    "### Above is an example of using a class of characters\n",
    "\n",
    "- Intitution: Putting a list of characters within `[]`, matches any one character within the given list. \n",
    "- So, `r\"[Bb][aA]t\"` will match Bat,bat,BAt,bAt."
   ]
  },
  {
   "cell_type": "code",
   "execution_count": 20,
   "metadata": {},
   "outputs": [
    {
     "name": "stdout",
     "output_type": "stream",
     "text": [
      "Found a match for a in: another\n",
      "Found a match for e in: elephant\n",
      "Found a match for i in: is\n",
      "Found a match for o in: oliver\n",
      "Found a match for u in: uber\n"
     ]
    }
   ],
   "source": [
    "pat4 = r\"[aeiou]\"\n",
    "func1(pat4,\"another\")\n",
    "func1(pat4,\"elephant\")\n",
    "func1(pat4,\"is\")\n",
    "func1(pat4,\"oliver\")\n",
    "func1(pat4,\"uber\")"
   ]
  },
  {
   "cell_type": "markdown",
   "metadata": {},
   "source": [
    "### Example:\n",
    "\n",
    "- Let's try to see if \"elephant\" contains any vowels\n",
    "\n",
    "**Python implementation will be something like:**\n",
    ">for \"a\" in \"elephant\" or \"i\" in \"elephant\" or \"u\" in \"elephant\" and so on..\n",
    "\n",
    "**Regex implemtation will be :**\n",
    "> match_obj = re.search(r\"[aeiou]\", \"elephant\")\n"
   ]
  },
  {
   "cell_type": "markdown",
   "metadata": {},
   "source": [
    "### Matching a single character (using .):\n",
    " `.`  matches a single character. (can match any character, alphabets,numbers and the `.` itself)\n",
    "\n",
    "_Let's look at an example_"
   ]
  },
  {
   "cell_type": "code",
   "execution_count": 48,
   "metadata": {},
   "outputs": [
    {
     "name": "stdout",
     "output_type": "stream",
     "text": [
      ". will match a single character\n",
      "\\. is used to escape the dot extention in filename\n",
      "\n",
      "Matched filenames:\n",
      "<re.Match object; span=(0, 3), match='f1.'>\n",
      "None\n",
      "<re.Match object; span=(0, 3), match='f2.'>\n",
      "None\n",
      "None\n",
      "<re.Match object; span=(0, 3), match='f..'>\n",
      "\n",
      "Notice the last match where . is matching itself\n"
     ]
    }
   ],
   "source": [
    "#Example:\n",
    "filelst = [\"f1.py\",\"f11.py\",\"f2.py\",\"f111.py\",\"fat4.py\",\"f..py\"]\n",
    "print(\". will match a single character\")\n",
    "print(\"\\. is used to escape the dot extention in filename\\n\")\n",
    "print(\"Matched filenames:\")\n",
    "for file in filelst:\n",
    "    print(re.search(r\"f.\\.\",file)) # we want to match f_any character_dot(e.g.f1.py,f5.py, but not f55.py, f555.py and so on)\n",
    "print(\"\\nNotice the last match where . is matching itself\")    \n",
    "    "
   ]
  },
  {
   "cell_type": "markdown",
   "metadata": {},
   "source": [
    "### Few abbreviations:\n",
    "- [a-e] = [abcde] (will match any character within the class)\n",
    "- [0-3] = [0123] (will match any character within the class)\n",
    "- \\d = any digit (\\D: matches a non digit character)\n",
    "- \\w = any word character = [a-zA-Z0-9_] (note: `_` is also included in the word class; \\W non word)\n",
    "- \\s = a whitespace character = [ \\r\\t\\n]\n",
    "- **^ is used for negation when used within a character class**; Thus,\n",
    "> - r[^aeiou] will match `not-vowels`\n",
    " - r[^\\d] will match `not-digits`"
   ]
  },
  {
   "cell_type": "markdown",
   "metadata": {},
   "source": [
    "### Anchors\n",
    "\n",
    "- To make sure that one is at a certain boundary before doing the match\n",
    "- `^` matches the beginning of a line; thus `^[0-9]` matches a number at the beginning of the string\n",
    "- `$` matches the end of a line; `\\w$` matches a string ending with a word character\n",
    "    - **Note**: `r[^0-9]` signifies negation of a digit \n",
    "- `\\b` is used to define a word boundary \n",
    "    - `\\bman` will match words starting with man (e.g: mankind, manly, mane etc. but not human,superman etc.)\n",
    "    - `man\\b` will match words ending with man (e.g. human, superman etc.)\n",
    "    - `\\bman\\b` will match the word man in a sentence"
   ]
  },
  {
   "cell_type": "markdown",
   "metadata": {},
   "source": [
    "### Quick introduction to re.sub\n",
    "- Used for regex substitution\n",
    "- Syntax: `re.sub(r'pattern-to-substitite',\"pattern-to-be-substitued-with\",string)`\n",
    "\n",
    "**Note**: Strings are `immutable`; hence a new string gets generated by re.sub(), and original string remains unchanged."
   ]
  },
  {
   "cell_type": "markdown",
   "metadata": {},
   "source": [
    "## Worked out Examples"
   ]
  },
  {
   "cell_type": "code",
   "execution_count": 2,
   "metadata": {},
   "outputs": [
    {
     "data": {
      "text/plain": [
       "'This is Great news'"
      ]
     },
     "execution_count": 2,
     "metadata": {},
     "output_type": "execute_result"
    }
   ],
   "source": [
    "# Example: Replace g with G\n",
    "tstr = \"This is great news\"\n",
    "re.sub(r\"g\",\"G\",tstr)"
   ]
  },
  {
   "cell_type": "code",
   "execution_count": 5,
   "metadata": {},
   "outputs": [
    {
     "data": {
      "text/plain": [
       "'This is Great that we Gathered here that I can gurantee going forward'"
      ]
     },
     "execution_count": 5,
     "metadata": {},
     "output_type": "execute_result"
    }
   ],
   "source": [
    "# Example: Replace g with G upto a certain count(1st 2 counts of g)\n",
    "tstr = \"This is great that we gathered here that I can gurantee going forward\"\n",
    "re.sub(r\"g\",\"G\",tstr,count=2)"
   ]
  },
  {
   "cell_type": "code",
   "execution_count": 16,
   "metadata": {},
   "outputs": [
    {
     "name": "stdout",
     "output_type": "stream",
     "text": [
      "<re.Match object; span=(0, 11), match='555-aa-5555'>\n",
      "<re.Match object; span=(0, 11), match='5a5-5a-1234'>\n",
      "None\n",
      "None\n"
     ]
    }
   ],
   "source": [
    "# Example: Let's match a set of alphanumeric numbers starting with 5, followed by letters/numbers at next 2 places\n",
    "numlst = [\"555-aa-5555\",\"5a5-5a-1234\",\"655-bb-4444\",\"555-b3-abc5\"] ## 1st 2 matches, but not the last 2\n",
    "for val in numlst:\n",
    "    print(re.search(r\"^5[\\w][\\w]-[\\w][\\w]-[\\d][\\d][\\d][\\d]\",val))"
   ]
  },
  {
   "cell_type": "code",
   "execution_count": 17,
   "metadata": {},
   "outputs": [
    {
     "data": {
      "text/plain": [
       "<re.Match object; span=(30, 33), match='cat'>"
      ]
     },
     "execution_count": 17,
     "metadata": {},
     "output_type": "execute_result"
    }
   ],
   "source": [
    "# Example: This will match only the word cat, as defined by the boundary; so the 2nd cat is matched, but not Caterpillar\n",
    "re.search(r\"\\b[cC]at\\b\",\"There's one Caterpillar and a cat in the closet\")"
   ]
  },
  {
   "cell_type": "code",
   "execution_count": 18,
   "metadata": {},
   "outputs": [
    {
     "data": {
      "text/plain": [
       "<re.Match object; span=(0, 3), match='cat'>"
      ]
     },
     "execution_count": 18,
     "metadata": {},
     "output_type": "execute_result"
    }
   ],
   "source": [
    "# Example: This will match the single word cat (begin with c|C, then a and end with t)\n",
    "re.search(r\"^[cC]at$\",\"cat\")"
   ]
  },
  {
   "cell_type": "code",
   "execution_count": 48,
   "metadata": {},
   "outputs": [],
   "source": [
    "# Example: This won't match anything as the sentence doesn't start with c|Cat\n",
    "re.search(r\"^[cC]at\",\"There's one Caterpillar and a cat in the closet\") "
   ]
  },
  {
   "cell_type": "code",
   "execution_count": 49,
   "metadata": {},
   "outputs": [
    {
     "data": {
      "text/plain": [
       "<re.Match object; span=(0, 3), match='Cat'>"
      ]
     },
     "execution_count": 49,
     "metadata": {},
     "output_type": "execute_result"
    }
   ],
   "source": [
    "# Example: This will match Cat as the sentence starts with Cat\n",
    "re.search(r\"^[cC]at\",\"Cat and mouse game\") "
   ]
  },
  {
   "cell_type": "code",
   "execution_count": 20,
   "metadata": {},
   "outputs": [
    {
     "data": {
      "text/plain": [
       "<re.Match object; span=(12, 15), match='Cat'>"
      ]
     },
     "execution_count": 20,
     "metadata": {},
     "output_type": "execute_result"
    }
   ],
   "source": [
    "# Example: There's no anchor; so Cat from Caterpillar is matched\n",
    "re.search(r\"[cC]at\",\"There's one Caterpillar and a cat in the closet\")"
   ]
  },
  {
   "cell_type": "code",
   "execution_count": 33,
   "metadata": {},
   "outputs": [
    {
     "data": {
      "text/plain": [
       "['Mankind is to blame', 'A child will grow to be a man', 'Manchester, England']"
      ]
     },
     "execution_count": 33,
     "metadata": {},
     "output_type": "execute_result"
    }
   ],
   "source": [
    "# Example: Using a list comprehension to match mutiple strings; to find the word man at the beginning of a word\n",
    "lst = [\"Mankind is to blame\",\"Human and the masters\",\"A child will grow to be a man\",\"Manchester, England\"]\n",
    "[wrd for wrd in lst if re.search(r'\\b[mM]an',wrd) ]"
   ]
  },
  {
   "cell_type": "code",
   "execution_count": 50,
   "metadata": {},
   "outputs": [
    {
     "data": {
      "text/plain": [
       "['Human and the masters', 'A child will grow to be a man']"
      ]
     },
     "execution_count": 50,
     "metadata": {},
     "output_type": "execute_result"
    }
   ],
   "source": [
    "# Example: Using a list comprehension to match mutiple strings; to find the word man at the beginning of a word\n",
    "lst = [\"Mankind is to blame\",\"Human and the masters\",\"A child will grow to be a man\",\"Manchester, England\"]\n",
    "[wrd for wrd in lst if re.search(r'[mM]an\\b',wrd) ]"
   ]
  },
  {
   "cell_type": "code",
   "execution_count": 51,
   "metadata": {},
   "outputs": [
    {
     "data": {
      "text/plain": [
       "['A child will grow to be a man']"
      ]
     },
     "execution_count": 51,
     "metadata": {},
     "output_type": "execute_result"
    }
   ],
   "source": [
    "# Example: Using a list comprehension to match mutiple strings; to find the word man at the beginning of a word\n",
    "lst = [\"Mankind is to blame\",\"Human and the masters\",\"A child will grow to be a man\",\"Manchester, England\"]\n",
    "[wrd for wrd in lst if re.search(r'\\b[mM]an\\b',wrd) ]"
   ]
  },
  {
   "cell_type": "code",
   "execution_count": 44,
   "metadata": {},
   "outputs": [
    {
     "name": "stdout",
     "output_type": "stream",
     "text": [
      "<re.Match object; span=(10, 13), match='man'>\n",
      "None\n"
     ]
    }
   ],
   "source": [
    "# Example: Also few subtle examples to note:\n",
    "print(re.search(r'\\b[mM]an',\"There are many ppl out there\")) # will match word man in many\n",
    "print(re.search(r'^[mM]an',\"There are many ppl out there\")) # won't match anything as sentence doesn't start with [mM]"
   ]
  },
  {
   "cell_type": "code",
   "execution_count": null,
   "metadata": {},
   "outputs": [],
   "source": []
  },
  {
   "cell_type": "markdown",
   "metadata": {},
   "source": [
    "### Repetition\n",
    "- Match more than 1 character \n",
    "- Match specific number of characters\n",
    "- Match characters within a given count\n",
    "- Match `0 or more occurances` of a character using `*`\n",
    "- Match `1 or more occurances` of a character using `+`\n",
    "- Match `0 or 1 occurances` of a character using `?`"
   ]
  },
  {
   "cell_type": "code",
   "execution_count": 62,
   "metadata": {},
   "outputs": [
    {
     "name": "stdout",
     "output_type": "stream",
     "text": [
      "<re.Match object; span=(0, 2), match='12'>\n",
      "<re.Match object; span=(0, 8), match='12223456'>\n",
      "<re.Match object; span=(0, 2), match='12'>\n",
      "<re.Match object; span=(0, 3), match='122'>\n",
      "None\n",
      "<re.Match object; span=(0, 3), match='122'>\n"
     ]
    }
   ],
   "source": [
    "# Match more than 1 character \n",
    "print(re.search(r'[0-9]{2}',\"12\")) # will match 2 occurances of a digit\n",
    "print(re.search(r'[0-9]{2,}',\"12223456\")) # will match 2 and more occurances of a digit\n",
    "print(re.search(r'[0-9]{2,3}',\"12\")) # will match 2 and more occurances of a digit\n",
    "print(re.search(r'[0-9]{2,3}',\"12223456\")) # will match 2 and more occurances of a digit\n",
    "print(re.search(r'[0-9]{2,3}',\"1\")) # won't match anything\n",
    "print(re.search(r'[0-9]{,3}',\"12223456\")) # will match upto 3 characters"
   ]
  },
  {
   "cell_type": "code",
   "execution_count": 63,
   "metadata": {},
   "outputs": [
    {
     "data": {
      "text/plain": [
       "['122-51-1752', '221,55,2222', '999-99-9999']"
      ]
     },
     "execution_count": 63,
     "metadata": {},
     "output_type": "execute_result"
    }
   ],
   "source": [
    "# Let's write a regex to match all SSNs\n",
    "# Let's assume that ssn might contain - or , as separator\n",
    "ssns = [\"122-51-1752\",\"221,55,2222\",\"33-444-5555\",\"0,000,000\",\"999-99-9999\"]\n",
    "[num for num in ssns if re.search(r'\\d{3}[-,]\\d{2}[-,]\\d{4}',num)]"
   ]
  },
  {
   "cell_type": "code",
   "execution_count": 6,
   "metadata": {},
   "outputs": [
    {
     "data": {
      "text/plain": [
       "['Alice,B12', 'Mr. Rob6666', 'Oliver Hans Hulk']"
      ]
     },
     "execution_count": 6,
     "metadata": {},
     "output_type": "execute_result"
    }
   ],
   "source": [
    "# Let's write a regex to match the below names\n",
    "namelst = [\"Alice,B12\",\"Mr. Rob6666\",\"Oliver Hans Hulk\"]\n",
    "[name for name in namelst if re.search(r'^[\\w][\\w]+[,\\.]?\\s?\\w+\\s?\\w+',name)]"
   ]
  },
  {
   "cell_type": "code",
   "execution_count": 9,
   "metadata": {},
   "outputs": [
    {
     "name": "stdout",
     "output_type": "stream",
     "text": [
      "True\n",
      "False\n"
     ]
    }
   ],
   "source": [
    "# Check whether the given strings contain 0xC0 . Display a boolean result\n",
    "line1 = 'start address: 0xF0, func1 address: 0xC0'\n",
    "line2 = 'end address: 0xEF, func2 address: 0xA0'\n",
    "\n",
    "print(bool(re.search(r'0xC0',line1)))\n",
    "print(bool(re.search(r'0xC0',line2)))"
   ]
  },
  {
   "cell_type": "code",
   "execution_count": 10,
   "metadata": {},
   "outputs": [
    {
     "data": {
      "text/plain": [
       "'They have six shoes and six socks'"
      ]
     },
     "execution_count": 10,
     "metadata": {},
     "output_type": "execute_result"
    }
   ],
   "source": [
    "# Example: Replace all occurrences of 6 with six for the given string\n",
    "nstr = 'They have 6 shoes and 6 socks'\n",
    "re.sub(r'6',\"six\",nstr)"
   ]
  },
  {
   "cell_type": "code",
   "execution_count": 11,
   "metadata": {},
   "outputs": [
    {
     "data": {
      "text/plain": [
       "'They have six shoes and six socks and 6 shirts'"
      ]
     },
     "execution_count": 11,
     "metadata": {},
     "output_type": "execute_result"
    }
   ],
   "source": [
    "# Example: Replace first 2 occurrences of 6 with six for the given string\n",
    "nstr = 'They have 6 shoes and 6 socks and 6 shirts'\n",
    "re.sub(r'6',\"six\",nstr,count=2)"
   ]
  },
  {
   "cell_type": "code",
   "execution_count": 25,
   "metadata": {},
   "outputs": [
    {
     "name": "stdout",
     "output_type": "stream",
     "text": [
      "All elements that do not contain e:['boy', 'girl', 'lunch']\n",
      "All elements that contains e:['apple', 'item', 'care', 'get', 'baffle', 'eat', 'elephant']\n",
      "All elements that ends with e:['apple', 'care', 'baffle']\n",
      "All elements that starts with e:['eat', 'elephant']\n"
     ]
    }
   ],
   "source": [
    "# Example: For the given list, filter all elements that do not contain e \n",
    "items = ['apple', 'item', 'care', 'boy', 'girl', 'lunch',\"get\",\"baffle\",\"eat\",\"elephant\"]\n",
    "print(f\"All elements that do not contain e:{[word for word in items if not re.search(r'e', word)]}\")\n",
    "\n",
    "# Example: For the given list, filter all elements that do contains e \n",
    "print(f\"All elements that contains e:{[word for word in items if re.search(r'e', word)]}\")\n",
    "\n",
    "# Example: For the given list, filter all elements that ends with e \n",
    "print(f\"All elements that ends with e:{[word for word in items if re.search(r'e$', word)]}\")\n",
    "\n",
    "# Example: For the given list, filter all elements that starts with e \n",
    "print(f\"All elements that starts with e:{[word for word in items if re.search(r'^e', word)]}\")\n"
   ]
  },
  {
   "cell_type": "code",
   "execution_count": 28,
   "metadata": {},
   "outputs": [
    {
     "data": {
      "text/plain": [
       "'This DOCument needs to be DOCKed'"
      ]
     },
     "execution_count": 28,
     "metadata": {},
     "output_type": "execute_result"
    }
   ],
   "source": [
    "# Example: Replace all occurrences of doc irrespective of case with DOC \n",
    "nstr = 'This document needs to be DOcKed'\n",
    "re.sub(r'doc',\"DOC\",nstr,flags=re.IGNORECASE) # flags parameter needs to be passed explicitly (this is not needed in re.search)"
   ]
  },
  {
   "cell_type": "code",
   "execution_count": 31,
   "metadata": {},
   "outputs": [
    {
     "ename": "TypeError",
     "evalue": "cannot use a string pattern on a bytes-like object",
     "output_type": "error",
     "traceback": [
      "\u001b[0;31m---------------------------------------------------------------------------\u001b[0m",
      "\u001b[0;31mTypeError\u001b[0m                                 Traceback (most recent call last)",
      "\u001b[0;32m<ipython-input-31-ccd9d2ed9ae8>\u001b[0m in \u001b[0;36m<module>\u001b[0;34m\u001b[0m\n\u001b[1;32m      1\u001b[0m \u001b[0;31m# Example: Check if pill is present in the given byte input data\u001b[0m\u001b[0;34m\u001b[0m\u001b[0;34m\u001b[0m\u001b[0;34m\u001b[0m\u001b[0m\n\u001b[1;32m      2\u001b[0m \u001b[0mtstr\u001b[0m \u001b[0;34m=\u001b[0m \u001b[0;34mb'Domestic catterpillar'\u001b[0m\u001b[0;34m\u001b[0m\u001b[0;34m\u001b[0m\u001b[0m\n\u001b[0;32m----> 3\u001b[0;31m \u001b[0mprint\u001b[0m\u001b[0;34m(\u001b[0m\u001b[0mre\u001b[0m\u001b[0;34m.\u001b[0m\u001b[0msearch\u001b[0m\u001b[0;34m(\u001b[0m\u001b[0;34mr'pill'\u001b[0m\u001b[0;34m,\u001b[0m\u001b[0mtstr\u001b[0m\u001b[0;34m)\u001b[0m\u001b[0;34m)\u001b[0m \u001b[0;31m# this is throw an error as the input is byte data\u001b[0m\u001b[0;34m\u001b[0m\u001b[0;34m\u001b[0m\u001b[0m\n\u001b[0m\u001b[1;32m      4\u001b[0m \u001b[0mprint\u001b[0m\u001b[0;34m(\u001b[0m\u001b[0mre\u001b[0m\u001b[0;34m.\u001b[0m\u001b[0msearch\u001b[0m\u001b[0;34m(\u001b[0m\u001b[0;34mrb'pill'\u001b[0m\u001b[0;34m,\u001b[0m\u001b[0mtstr\u001b[0m\u001b[0;34m)\u001b[0m\u001b[0;34m)\u001b[0m\u001b[0;34m\u001b[0m\u001b[0;34m\u001b[0m\u001b[0m\n",
      "\u001b[0;32m~/anaconda3/lib/python3.7/re.py\u001b[0m in \u001b[0;36msearch\u001b[0;34m(pattern, string, flags)\u001b[0m\n\u001b[1;32m    181\u001b[0m     \"\"\"Scan through string looking for a match to the pattern, returning\n\u001b[1;32m    182\u001b[0m     a Match object, or None if no match was found.\"\"\"\n\u001b[0;32m--> 183\u001b[0;31m     \u001b[0;32mreturn\u001b[0m \u001b[0m_compile\u001b[0m\u001b[0;34m(\u001b[0m\u001b[0mpattern\u001b[0m\u001b[0;34m,\u001b[0m \u001b[0mflags\u001b[0m\u001b[0;34m)\u001b[0m\u001b[0;34m.\u001b[0m\u001b[0msearch\u001b[0m\u001b[0;34m(\u001b[0m\u001b[0mstring\u001b[0m\u001b[0;34m)\u001b[0m\u001b[0;34m\u001b[0m\u001b[0;34m\u001b[0m\u001b[0m\n\u001b[0m\u001b[1;32m    184\u001b[0m \u001b[0;34m\u001b[0m\u001b[0m\n\u001b[1;32m    185\u001b[0m \u001b[0;32mdef\u001b[0m \u001b[0msub\u001b[0m\u001b[0;34m(\u001b[0m\u001b[0mpattern\u001b[0m\u001b[0;34m,\u001b[0m \u001b[0mrepl\u001b[0m\u001b[0;34m,\u001b[0m \u001b[0mstring\u001b[0m\u001b[0;34m,\u001b[0m \u001b[0mcount\u001b[0m\u001b[0;34m=\u001b[0m\u001b[0;36m0\u001b[0m\u001b[0;34m,\u001b[0m \u001b[0mflags\u001b[0m\u001b[0;34m=\u001b[0m\u001b[0;36m0\u001b[0m\u001b[0;34m)\u001b[0m\u001b[0;34m:\u001b[0m\u001b[0;34m\u001b[0m\u001b[0;34m\u001b[0m\u001b[0m\n",
      "\u001b[0;31mTypeError\u001b[0m: cannot use a string pattern on a bytes-like object"
     ]
    }
   ],
   "source": [
    "# Example: Check if pill is present in the given byte input data\n",
    "tstr = b'Domestic catterpillar'\n",
    "print(re.search(r'pill',tstr)) # this is throw an error as the input is byte data"
   ]
  },
  {
   "cell_type": "code",
   "execution_count": 32,
   "metadata": {},
   "outputs": [
    {
     "name": "stdout",
     "output_type": "stream",
     "text": [
      "<re.Match object; span=(15, 19), match=b'pill'>\n"
     ]
    }
   ],
   "source": [
    "print(re.search(rb'pill',tstr)) #this will work"
   ]
  },
  {
   "cell_type": "code",
   "execution_count": 51,
   "metadata": {},
   "outputs": [
    {
     "name": "stdout",
     "output_type": "stream",
     "text": [
      "Option 1:Using dct; modifies original string : start address: 0x7F, func1 address: 0x1F\n",
      "Option 2:Original string unmodified:  start address: 0x7F, func1 address: 0x1F\n"
     ]
    }
   ],
   "source": [
    "# Example: For the given string, replace 0xA0 with 0x7F and 0xC0 with 0x1F \n",
    "\n",
    "## Option 1: Using a dictionary\n",
    "tstr = 'start address: 0xA0, func1 address: 0xC0'        \n",
    "dct = {r\"0xA0\":\"0x7F\",r\"0xC0\":\"0x1F\"} \n",
    "\n",
    "for k,v in dct.items():\n",
    "    nstr = re.sub(k,dct[k],tstr)\n",
    "    tstr = nstr\n",
    "\n",
    "print(f\"Option 1:Using dct; modifies original string : {nstr}\")\n",
    "\n",
    "\n",
    "## Option 2: Calling outer re.sub() on inner re.sub(). This is not valid as the number of opertions increase\n",
    "nstr = 'start address: 0xA0, func1 address: 0xC0'        \n",
    "print(\"Option 2:Original string unmodified: \", re.sub(r\"0xC0\",\"0x1F\",re.sub(r\"0xA0\",\"0x7F\",nstr)))"
   ]
  },
  {
   "cell_type": "code",
   "execution_count": null,
   "metadata": {},
   "outputs": [],
   "source": []
  },
  {
   "cell_type": "code",
   "execution_count": null,
   "metadata": {},
   "outputs": [],
   "source": []
  },
  {
   "cell_type": "code",
   "execution_count": null,
   "metadata": {},
   "outputs": [],
   "source": []
  },
  {
   "cell_type": "code",
   "execution_count": null,
   "metadata": {},
   "outputs": [],
   "source": []
  }
 ],
 "metadata": {
  "kernelspec": {
   "display_name": "Python 3",
   "language": "python",
   "name": "python3"
  },
  "language_info": {
   "codemirror_mode": {
    "name": "ipython",
    "version": 3
   },
   "file_extension": ".py",
   "mimetype": "text/x-python",
   "name": "python",
   "nbconvert_exporter": "python",
   "pygments_lexer": "ipython3",
   "version": "3.7.7"
  }
 },
 "nbformat": 4,
 "nbformat_minor": 4
}
