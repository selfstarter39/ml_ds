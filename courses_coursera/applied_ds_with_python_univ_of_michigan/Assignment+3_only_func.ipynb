{
 "cells": [
  {
   "cell_type": "markdown",
   "metadata": {},
   "source": [
    "---\n",
    "\n",
    "_You are currently looking at **version 1.5** of this notebook. To download notebooks and datafiles, as well as get help on Jupyter notebooks in the Coursera platform, visit the [Jupyter Notebook FAQ](https://www.coursera.org/learn/python-data-analysis/resources/0dhYG) course resource._\n",
    "\n",
    "---"
   ]
  },
  {
   "cell_type": "markdown",
   "metadata": {},
   "source": [
    "# Assignment 3 - More Pandas\n",
    "This assignment requires more individual learning then the last one did - you are encouraged to check out the [pandas documentation](http://pandas.pydata.org/pandas-docs/stable/) to find functions or methods you might not have used yet, or ask questions on [Stack Overflow](http://stackoverflow.com/) and tag them as pandas and python related. And of course, the discussion forums are open for interaction with your peers and the course staff."
   ]
  },
  {
   "cell_type": "markdown",
   "metadata": {},
   "source": [
    "### Question 1 (20%)\n",
    "Load the energy data from the file `Energy Indicators.xls`, which is a list of indicators of [energy supply and renewable electricity production](Energy%20Indicators.xls) from the [United Nations](http://unstats.un.org/unsd/environment/excel_file_tables/2013/Energy%20Indicators.xls) for the year 2013, and should be put into a DataFrame with the variable name of **energy**.\n",
    "\n",
    "Keep in mind that this is an Excel file, and not a comma separated values file. Also, make sure to exclude the footer and header information from the datafile. The first two columns are unneccessary, so you should get rid of them, and you should change the column labels so that the columns are:\n",
    "\n",
    "`['Country', 'Energy Supply', 'Energy Supply per Capita', '% Renewable']`\n",
    "\n",
    "Convert `Energy Supply` to gigajoules (there are 1,000,000 gigajoules in a petajoule). For all countries which have missing data (e.g. data with \"...\") make sure this is reflected as `np.NaN` values.\n",
    "\n",
    "Rename the following list of countries (for use in later questions):\n",
    "\n",
    "```\"Republic of Korea\": \"South Korea\",\n",
    "\"United States of America\": \"United States\",\n",
    "\"United Kingdom of Great Britain and Northern Ireland\": \"United Kingdom\",\n",
    "\"China, Hong Kong Special Administrative Region\": \"Hong Kong\"```\n",
    "\n",
    "There are also several countries with numbers and/or parenthesis in their name. Be sure to remove these, \n",
    "\n",
    "e.g. \n",
    "\n",
    "`'Bolivia (Plurinational State of)'` should be `'Bolivia'`, \n",
    "\n",
    "`'Switzerland17'` should be `'Switzerland'`.\n",
    "\n",
    "<br>\n",
    "\n",
    "Next, load the GDP data from the file `world_bank.csv`, which is a csv containing countries' GDP from 1960 to 2015 from [World Bank](http://data.worldbank.org/indicator/NY.GDP.MKTP.CD). Call this DataFrame **GDP**. \n",
    "\n",
    "Make sure to skip the header, and rename the following list of countries:\n",
    "\n",
    "```\"Korea, Rep.\": \"South Korea\", \n",
    "\"Iran, Islamic Rep.\": \"Iran\",\n",
    "\"Hong Kong SAR, China\": \"Hong Kong\"```\n",
    "\n",
    "<br>\n",
    "\n",
    "Finally, load the [Sciamgo Journal and Country Rank data for Energy Engineering and Power Technology](http://www.scimagojr.com/countryrank.php?category=2102) from the file `scimagojr-3.xlsx`, which ranks countries based on their journal contributions in the aforementioned area. Call this DataFrame **ScimEn**.\n",
    "\n",
    "Join the three datasets: GDP, Energy, and ScimEn into a new dataset (using the intersection of country names). Use only the last 10 years (2006-2015) of GDP data and only the top 15 countries by Scimagojr 'Rank' (Rank 1 through 15). \n",
    "\n",
    "The index of this DataFrame should be the name of the country, and the columns should be ['Rank', 'Documents', 'Citable documents', 'Citations', 'Self-citations',\n",
    "       'Citations per document', 'H index', 'Energy Supply',\n",
    "       'Energy Supply per Capita', '% Renewable', '2006', '2007', '2008',\n",
    "       '2009', '2010', '2011', '2012', '2013', '2014', '2015'].\n",
    "\n",
    "*This function should return a DataFrame with 20 columns and 15 entries.*"
   ]
  },
  {
   "cell_type": "code",
   "execution_count": null,
   "metadata": {},
   "outputs": [],
   "source": []
  },
  {
   "cell_type": "code",
   "execution_count": 1,
   "metadata": {
    "umich_part_id": "009",
    "umich_partlist_id": "003"
   },
   "outputs": [],
   "source": [
    "import pandas as pd\n",
    "import numpy as np\n",
    "import matplotlib.pyplot as plt\n",
    "def answer_one():  \n",
    "    # Working with energy dataframe\n",
    "    energy = pd.read_excel(\"data/Energy Indicators.xls\",skiprows=17,skipfooter=38,usecols=[2,3,4,5])\n",
    "    energy.columns = ['Country', 'Energy Supply', 'Energy Supply per Capita', '% Renewable']\n",
    "    \n",
    "    # For all countries which have missing data (e.g. data with \"...\") make sure this is reflected as np.NaN values.\n",
    "    energy.loc[(energy[\"Energy Supply\"] == \"...\"),[\"Energy Supply\"]] = np.NAN\n",
    "    energy.loc[(energy[\"Energy Supply per Capita\"] == \"...\"),[\"Energy Supply per Capita\"]] = np.NAN\n",
    "    \n",
    "    # Convert Energy Supply to gigajoules (there are 1,000,000 gigajoules in a petajoule). \n",
    "    energy[\"Energy Supply\"] = energy[\"Energy Supply\"] * 1000000# Removing numbers and/or parenthesis in\n",
    "    energy[\"Country\"] = energy[\"Country\"].str.replace(r'[0-9]',\"\")\n",
    "    energy[\"Country\"] = energy[\"Country\"].str.replace(r'\\(.*\\)',\"\")\n",
    "    \n",
    "    #Rename the following list of countries (for use in later questions):\n",
    "    energy.loc[(energy[\"Country\"] == \"Republic of Korea\"),[\"Country\"]] = \"South Korea\"\n",
    "    energy.loc[(energy[\"Country\"] == \"United States of America\"),[\"Country\"]] = \"United States\"\n",
    "    energy.loc[(energy[\"Country\"] == \"United Kingdom of Great Britain and Northern Ireland\"),[\"Country\"]] = \"United Kingdom\"\n",
    "    energy.loc[(energy[\"Country\"] == \"China, Hong Kong Special Administrative Region\"),[\"Country\"]] = \"Hong Kong\"\n",
    "    \n",
    "    #Also it has been observed that there are spaces at the beginning and end of Country names; removing those\n",
    "    energy[\"Country\"] = energy[\"Country\"].str.rstrip()\n",
    "    energy[\"Country\"] = energy[\"Country\"].str.lstrip()\n",
    "    \n",
    "    # Working with GDP dataframe\n",
    "    \n",
    "    # Loading dataframe\n",
    "    GDP = pd.read_csv(\"data/world_bank.csv\",header=4)\n",
    "    GDP.loc[(GDP[\"Country Name\"] == \"Korea, Rep.\"),[\"Country Name\"]] = \"South Korea\"\n",
    "    GDP.loc[(GDP[\"Country Name\"] == \"Iran, Islamic Rep.\"),[\"Country Name\"]] = \"Iran\"\n",
    "    GDP.loc[(GDP[\"Country Name\"] == \"Hong Kong SAR, China\"),[\"Country Name\"]] = \"Hong Kong\"\n",
    "    \n",
    "    GDP[\"Country Name\"] = GDP[\"Country Name\"].str.rstrip()\n",
    "    GDP[\"Country Name\"]= GDP[\"Country Name\"].str.lstrip()\n",
    "    \n",
    "    # Working with ScimEn dataframe\n",
    "    ScimEn = pd.read_excel(\"data/scimagojr-3.xlsx\")\n",
    "    ScimEn[\"Country\"] = ScimEn[\"Country\"].str.rstrip()\n",
    "    ScimEn[\"Country\"] = ScimEn[\"Country\"].str.lstrip()\n",
    "    \n",
    "    # Join the three datasets: GDP, Energy, and ScimEn into a new dataset (using the intersection of country names).\n",
    "    # Use only the last 10 years(2006-2015) of GDP data and\n",
    "    # only the top 15 countries by Scimagojr 'Rank' (Rank 1 through 15).\n",
    "    \n",
    "    # The index of this DataFrame should be the name of the country, and the columns should be\n",
    "    # ['Rank', 'Documents', 'Citable documents', 'Citations', 'Self-citations', 'Citations per document', 'H index', 'Energy Supply', 'Energy Supply per Capita', \n",
    "    # '% Renewable', '2006', '2007', '2008', '2009', '2010', '2011', '2012', '2013', '2014', '2015'].\n",
    "    \n",
    "    # This function should return a DataFrame with 20 columns and 15 entries.\n",
    "    \n",
    "    \n",
    "    top_15_Scimagojr = ScimEn.nsmallest(15,\"Rank\").copy()\n",
    "    \n",
    "    gdp_last_10 = GDP.drop(['Country Code', 'Indicator Name', 'Indicator Code','1960', '1961', '1962', '1963', '1964', '1965', '1966', '1967', '1968',\n",
    "           '1969', '1970', '1971', '1972', '1973', '1974', '1975', '1976', '1977',\n",
    "           '1978', '1979', '1980', '1981', '1982', '1983', '1984', '1985', '1986',\n",
    "           '1987', '1988', '1989', '1990', '1991', '1992', '1993', '1994', '1995',\n",
    "           '1996', '1997', '1998', '1999', '2000', '2001', '2002', '2003', '2004',\n",
    "           '2005'],axis=1)\n",
    "    \n",
    "    new_df = (top_15_Scimagojr.merge(energy, how=\"inner\",on=\"Country\")).merge(gdp_last_10,how=\"inner\",left_on = \"Country\", right_on = \"Country Name\")\n",
    "    new_df.set_index([\"Country\"],inplace=True)\n",
    "    new_df.drop(\"Country Name\",axis=1,inplace= True)\n",
    "    #print(new_df.shape)\n",
    "    return new_df"
   ]
  },
  {
   "cell_type": "code",
   "execution_count": 2,
   "metadata": {},
   "outputs": [],
   "source": [
    "#answer_one()"
   ]
  },
  {
   "cell_type": "code",
   "execution_count": null,
   "metadata": {},
   "outputs": [],
   "source": []
  },
  {
   "cell_type": "markdown",
   "metadata": {},
   "source": [
    "### Question 2 (6.6%)\n",
    "The previous question joined three datasets then reduced this to just the top 15 entries. When you joined the datasets, but before you reduced this to the top 15 items, how many entries did you lose?\n",
    "\n",
    "*This function should return a single number.*"
   ]
  },
  {
   "cell_type": "code",
   "execution_count": 3,
   "metadata": {},
   "outputs": [
    {
     "data": {
      "text/html": [
       "<svg width=\"800\" height=\"300\">\n",
       "  <circle cx=\"150\" cy=\"180\" r=\"80\" fill-opacity=\"0.2\" stroke=\"black\" stroke-width=\"2\" fill=\"blue\" />\n",
       "  <circle cx=\"200\" cy=\"100\" r=\"80\" fill-opacity=\"0.2\" stroke=\"black\" stroke-width=\"2\" fill=\"red\" />\n",
       "  <circle cx=\"100\" cy=\"100\" r=\"80\" fill-opacity=\"0.2\" stroke=\"black\" stroke-width=\"2\" fill=\"green\" />\n",
       "  <line x1=\"150\" y1=\"125\" x2=\"300\" y2=\"150\" stroke=\"black\" stroke-width=\"2\" fill=\"black\" stroke-dasharray=\"5,3\"/>\n",
       "  <text  x=\"300\" y=\"165\" font-family=\"Verdana\" font-size=\"35\">Everything but this!</text>\n",
       "</svg>\n"
      ],
      "text/plain": [
       "<IPython.core.display.HTML object>"
      ]
     },
     "metadata": {},
     "output_type": "display_data"
    }
   ],
   "source": [
    "%%HTML\n",
    "<svg width=\"800\" height=\"300\">\n",
    "  <circle cx=\"150\" cy=\"180\" r=\"80\" fill-opacity=\"0.2\" stroke=\"black\" stroke-width=\"2\" fill=\"blue\" />\n",
    "  <circle cx=\"200\" cy=\"100\" r=\"80\" fill-opacity=\"0.2\" stroke=\"black\" stroke-width=\"2\" fill=\"red\" />\n",
    "  <circle cx=\"100\" cy=\"100\" r=\"80\" fill-opacity=\"0.2\" stroke=\"black\" stroke-width=\"2\" fill=\"green\" />\n",
    "  <line x1=\"150\" y1=\"125\" x2=\"300\" y2=\"150\" stroke=\"black\" stroke-width=\"2\" fill=\"black\" stroke-dasharray=\"5,3\"/>\n",
    "  <text  x=\"300\" y=\"165\" font-family=\"Verdana\" font-size=\"35\">Everything but this!</text>\n",
    "</svg>"
   ]
  },
  {
   "cell_type": "code",
   "execution_count": 4,
   "metadata": {
    "umich_part_id": "010",
    "umich_partlist_id": "003"
   },
   "outputs": [],
   "source": [
    "import pandas as pd\n",
    "import numpy as np\n",
    "import matplotlib.pyplot as plt\n",
    "def answer_two():  \n",
    "    # Working with energy dataframe\n",
    "    energy = pd.read_excel(\"data/Energy Indicators.xls\",skiprows=17,skipfooter=38,usecols=[2,3,4,5])\n",
    "    energy.columns = ['Country', 'Energy Supply', 'Energy Supply per Capita', '% Renewable']\n",
    "    \n",
    "    # For all countries which have missing data (e.g. data with \"...\") make sure this is reflected as np.NaN values.\n",
    "    energy.loc[(energy[\"Energy Supply\"] == \"...\"),[\"Energy Supply\"]] = np.NAN\n",
    "    energy.loc[(energy[\"Energy Supply per Capita\"] == \"...\"),[\"Energy Supply per Capita\"]] = np.NAN\n",
    "    \n",
    "    # Convert Energy Supply to gigajoules (there are 1,000,000 gigajoules in a petajoule). \n",
    "    energy[\"Energy Supply\"] = energy[\"Energy Supply\"] * 1000000# Removing numbers and/or parenthesis in\n",
    "    energy[\"Country\"] = energy[\"Country\"].str.replace(r'[0-9]',\"\")\n",
    "    energy[\"Country\"] = energy[\"Country\"].str.replace(r'\\(.*\\)',\"\")\n",
    "    \n",
    "    #Rename the following list of countries (for use in later questions):\n",
    "    energy.loc[(energy[\"Country\"] == \"Republic of Korea\"),[\"Country\"]] = \"South Korea\"\n",
    "    energy.loc[(energy[\"Country\"] == \"United States of America\"),[\"Country\"]] = \"United States\"\n",
    "    energy.loc[(energy[\"Country\"] == \"United Kingdom of Great Britain and Northern Ireland\"),[\"Country\"]] = \"United Kingdom\"\n",
    "    energy.loc[(energy[\"Country\"] == \"China, Hong Kong Special Administrative Region\"),[\"Country\"]] = \"Hong Kong\"\n",
    "    \n",
    "    #Also it has been observed that there are spaces at the beginning and end of Country names; removing those\n",
    "    energy[\"Country\"] = energy[\"Country\"].str.rstrip()\n",
    "    energy[\"Country\"] = energy[\"Country\"].str.lstrip()\n",
    "    \n",
    "    # Working with GDP dataframe\n",
    "    \n",
    "    # Loading dataframe\n",
    "    GDP = pd.read_csv(\"data/world_bank.csv\",header=4)\n",
    "    GDP.loc[(GDP[\"Country Name\"] == \"Korea, Rep.\"),[\"Country Name\"]] = \"South Korea\"\n",
    "    GDP.loc[(GDP[\"Country Name\"] == \"Iran, Islamic Rep.\"),[\"Country Name\"]] = \"Iran\"\n",
    "    GDP.loc[(GDP[\"Country Name\"] == \"Hong Kong SAR, China\"),[\"Country Name\"]] = \"Hong Kong\"\n",
    "    \n",
    "    GDP[\"Country Name\"] = GDP[\"Country Name\"].str.rstrip()\n",
    "    GDP[\"Country Name\"]= GDP[\"Country Name\"].str.lstrip()\n",
    "    \n",
    "    # Working with ScimEn dataframe\n",
    "    ScimEn = pd.read_excel(\"data/scimagojr-3.xlsx\")\n",
    "    ScimEn[\"Country\"] = ScimEn[\"Country\"].str.rstrip()\n",
    "    ScimEn[\"Country\"] = ScimEn[\"Country\"].str.lstrip()\n",
    "    \n",
    "    # Join the three datasets: GDP, Energy, and ScimEn into a new dataset (using the intersection of country names).\n",
    "    # Use only the last 10 years(2006-2015) of GDP data and\n",
    "    # only the top 15 countries by Scimagojr 'Rank' (Rank 1 through 15).\n",
    "    \n",
    "    # The index of this DataFrame should be the name of the country, and the columns should be\n",
    "    # ['Rank', 'Documents', 'Citable documents', 'Citations', 'Self-citations', 'Citations per document', 'H index', 'Energy Supply', 'Energy Supply per Capita', \n",
    "    # '% Renewable', '2006', '2007', '2008', '2009', '2010', '2011', '2012', '2013', '2014', '2015'].\n",
    "    \n",
    "    # This function should return a DataFrame with 20 columns and 15 entries.\n",
    "    \n",
    "    \n",
    "    top_15_Scimagojr = ScimEn.nsmallest(15,\"Rank\").copy()\n",
    "    \n",
    "    gdp_last_10 = GDP.drop(['Country Code', 'Indicator Name', 'Indicator Code','1960', '1961', '1962', '1963', '1964', '1965', '1966', '1967', '1968',\n",
    "           '1969', '1970', '1971', '1972', '1973', '1974', '1975', '1976', '1977',\n",
    "           '1978', '1979', '1980', '1981', '1982', '1983', '1984', '1985', '1986',\n",
    "           '1987', '1988', '1989', '1990', '1991', '1992', '1993', '1994', '1995',\n",
    "           '1996', '1997', '1998', '1999', '2000', '2001', '2002', '2003', '2004',\n",
    "           '2005'],axis=1)\n",
    "    \n",
    "    \n",
    "    full_outer = (ScimEn.merge(energy, how=\"outer\",on=\"Country\")).merge(gdp_last_10,how=\"outer\",left_on = \"Country\", right_on = \"Country Name\")\n",
    "    inner = (top_15_Scimagojr.merge(energy, how=\"inner\",on=\"Country\")).merge(gdp_last_10,how=\"inner\",left_on = \"Country\", right_on = \"Country Name\")\n",
    "    return len(full_outer)- len(inner)"
   ]
  },
  {
   "cell_type": "code",
   "execution_count": 5,
   "metadata": {},
   "outputs": [],
   "source": [
    "#print(answer_two())"
   ]
  },
  {
   "cell_type": "markdown",
   "metadata": {},
   "source": [
    "## Answer the following questions in the context of only the top 15 countries by Scimagojr Rank (aka the DataFrame returned by `answer_one()`)"
   ]
  },
  {
   "cell_type": "markdown",
   "metadata": {},
   "source": [
    "### Question 3 (6.6%)\n",
    "What is the average GDP over the last 10 years for each country? (exclude missing values from this calculation.)\n",
    "\n",
    "*This function should return a Series named `avgGDP` with 15 countries and their average GDP sorted in descending order.*"
   ]
  },
  {
   "cell_type": "code",
   "execution_count": 6,
   "metadata": {
    "scrolled": true,
    "umich_part_id": "011",
    "umich_partlist_id": "003"
   },
   "outputs": [],
   "source": [
    "def answer_three():\n",
    "    Top15 = answer_one()\n",
    "    Top15.drop(['Rank','Documents', 'Citable documents', 'Citations',\n",
    "       'Self-citations', 'Citations per document', 'H index', 'Energy Supply',\n",
    "       'Energy Supply per Capita', '% Renewable'],axis=1,inplace=True)\n",
    "    \n",
    "    avgGDP = Top15.mean(axis=1).sort_values(ascending=False)\n",
    "    \n",
    "    return avgGDP"
   ]
  },
  {
   "cell_type": "code",
   "execution_count": 7,
   "metadata": {},
   "outputs": [
    {
     "data": {
      "text/plain": [
       "Country\n",
       "United States         1.536434e+13\n",
       "China                 6.348609e+12\n",
       "Japan                 5.542208e+12\n",
       "Germany               3.493025e+12\n",
       "France                2.681725e+12\n",
       "United Kingdom        2.487907e+12\n",
       "Brazil                2.189794e+12\n",
       "Italy                 2.120175e+12\n",
       "India                 1.769297e+12\n",
       "Canada                1.660647e+12\n",
       "Russian Federation    1.565459e+12\n",
       "Spain                 1.418078e+12\n",
       "Australia             1.164043e+12\n",
       "South Korea           1.106715e+12\n",
       "Iran                  4.441558e+11\n",
       "dtype: float64"
      ]
     },
     "execution_count": 7,
     "metadata": {},
     "output_type": "execute_result"
    }
   ],
   "source": [
    "answer_three()"
   ]
  },
  {
   "cell_type": "code",
   "execution_count": null,
   "metadata": {},
   "outputs": [],
   "source": []
  },
  {
   "cell_type": "markdown",
   "metadata": {},
   "source": [
    "### Question 4 (6.6%)\n",
    "By how much had the GDP changed over the 10 year span for the country with the 6th largest average GDP?\n",
    "\n",
    "*This function should return a single number.*"
   ]
  },
  {
   "cell_type": "code",
   "execution_count": 8,
   "metadata": {
    "scrolled": true,
    "umich_part_id": "012",
    "umich_partlist_id": "003"
   },
   "outputs": [],
   "source": [
    "def answer_four():\n",
    "    sixth_pos = answer_three()\n",
    "    cntry = sixth_pos.index[5]\n",
    "    top15 = answer_one()\n",
    "    chng = (top15.loc[cntry][\"2015\"] - top15.loc[cntry][\"2006\"])\n",
    "    return chng\n"
   ]
  },
  {
   "cell_type": "code",
   "execution_count": 9,
   "metadata": {},
   "outputs": [
    {
     "data": {
      "text/plain": [
       "246702696075.3999"
      ]
     },
     "execution_count": 9,
     "metadata": {},
     "output_type": "execute_result"
    }
   ],
   "source": [
    "answer_four()"
   ]
  },
  {
   "cell_type": "markdown",
   "metadata": {},
   "source": [
    "### Question 5 (6.6%)\n",
    "What is the mean `Energy Supply per Capita`?\n",
    "\n",
    "*This function should return a single number.*"
   ]
  },
  {
   "cell_type": "code",
   "execution_count": 10,
   "metadata": {
    "umich_part_id": "013",
    "umich_partlist_id": "003"
   },
   "outputs": [],
   "source": [
    "def answer_five():\n",
    "    Top15 = answer_one()\n",
    "    #return Top15\n",
    "    return Top15[\"Energy Supply per Capita\"].mean()"
   ]
  },
  {
   "cell_type": "code",
   "execution_count": 11,
   "metadata": {},
   "outputs": [
    {
     "data": {
      "text/plain": [
       "157.6"
      ]
     },
     "execution_count": 11,
     "metadata": {},
     "output_type": "execute_result"
    }
   ],
   "source": [
    "answer_five()"
   ]
  },
  {
   "cell_type": "code",
   "execution_count": null,
   "metadata": {},
   "outputs": [],
   "source": []
  },
  {
   "cell_type": "markdown",
   "metadata": {},
   "source": [
    "### Question 6 (6.6%)\n",
    "What country has the maximum % Renewable and what is the percentage?\n",
    "\n",
    "*This function should return a tuple with the name of the country and the percentage.*"
   ]
  },
  {
   "cell_type": "code",
   "execution_count": 12,
   "metadata": {
    "umich_part_id": "014",
    "umich_partlist_id": "003"
   },
   "outputs": [],
   "source": [
    "def answer_six():\n",
    "    Top15 = answer_one()\n",
    "    maxrenew = Top15.nlargest(1,\"% Renewable\")\n",
    "    return maxrenew.index[0],maxrenew[\"% Renewable\"].values[0]\n",
    "    #return maxrenew[\"Country\"].values[0],maxrenew[\"% Renewable\"].values[0]"
   ]
  },
  {
   "cell_type": "code",
   "execution_count": 13,
   "metadata": {},
   "outputs": [
    {
     "data": {
      "text/plain": [
       "('Brazil', 69.64803)"
      ]
     },
     "execution_count": 13,
     "metadata": {},
     "output_type": "execute_result"
    }
   ],
   "source": [
    "answer_six()"
   ]
  },
  {
   "cell_type": "code",
   "execution_count": null,
   "metadata": {},
   "outputs": [],
   "source": []
  },
  {
   "cell_type": "markdown",
   "metadata": {},
   "source": [
    "### Question 7 (6.6%)\n",
    "Create a new column that is the ratio of Self-Citations to Total Citations. \n",
    "What is the maximum value for this new column, and what country has the highest ratio?\n",
    "\n",
    "*This function should return a tuple with the name of the country and the ratio.*"
   ]
  },
  {
   "cell_type": "code",
   "execution_count": 14,
   "metadata": {
    "umich_part_id": "015",
    "umich_partlist_id": "003"
   },
   "outputs": [],
   "source": [
    "def answer_seven():\n",
    "    Top15 = answer_one()\n",
    "    Top15[\"Ratio_of_citations\"] = Top15[\"Self-citations\"]/Top15[\"Citations\"]\n",
    "    maxval = Top15.nlargest(1,\"Ratio_of_citations\")\n",
    "    return maxval.index[0],maxval[\"Ratio_of_citations\"].values[0]\n",
    "    "
   ]
  },
  {
   "cell_type": "code",
   "execution_count": 15,
   "metadata": {},
   "outputs": [
    {
     "data": {
      "text/plain": [
       "('China', 0.6893126179389422)"
      ]
     },
     "execution_count": 15,
     "metadata": {},
     "output_type": "execute_result"
    }
   ],
   "source": [
    "answer_seven()"
   ]
  },
  {
   "cell_type": "code",
   "execution_count": null,
   "metadata": {},
   "outputs": [],
   "source": []
  },
  {
   "cell_type": "markdown",
   "metadata": {},
   "source": [
    "### Question 8 (6.6%)\n",
    "\n",
    "Create a column that estimates the population using Energy Supply and Energy Supply per capita. \n",
    "What is the third most populous country according to this estimate?\n",
    "\n",
    "*This function should return a single string value.*"
   ]
  },
  {
   "cell_type": "code",
   "execution_count": 16,
   "metadata": {
    "umich_part_id": "016",
    "umich_partlist_id": "003"
   },
   "outputs": [],
   "source": [
    "def answer_eight():\n",
    "    Top15 = answer_one()\n",
    "    Top15 = Top15.astype({\"Energy Supply\":float,\"Energy Supply per Capita\":float})\n",
    "    Top15[\"pop\"] = Top15[\"Energy Supply\"]/Top15[\"Energy Supply per Capita\"]\n",
    "    third_pop = (Top15.nlargest(3,\"pop\")).tail(n=1)\n",
    "    return third_pop.index[0]"
   ]
  },
  {
   "cell_type": "code",
   "execution_count": 17,
   "metadata": {},
   "outputs": [
    {
     "data": {
      "text/plain": [
       "'United States'"
      ]
     },
     "execution_count": 17,
     "metadata": {},
     "output_type": "execute_result"
    }
   ],
   "source": [
    "answer_eight()"
   ]
  },
  {
   "cell_type": "code",
   "execution_count": null,
   "metadata": {},
   "outputs": [],
   "source": []
  },
  {
   "cell_type": "markdown",
   "metadata": {},
   "source": [
    "### Question 9 (6.6%)\n",
    "Create a column that estimates the number of citable documents per person. \n",
    "What is the correlation between the number of citable documents per capita and the energy supply per capita? Use the `.corr()` method, (Pearson's correlation).\n",
    "\n",
    "*This function should return a single number.*\n",
    "\n",
    "*(Optional: Use the built-in function `plot9()` to visualize the relationship between Energy Supply per Capita vs. Citable docs per Capita)*"
   ]
  },
  {
   "cell_type": "code",
   "execution_count": 18,
   "metadata": {
    "umich_part_id": "017",
    "umich_partlist_id": "003"
   },
   "outputs": [],
   "source": [
    "def answer_nine():\n",
    "    Top15 = answer_one()\n",
    "    Top15['PopEst'] = Top15['Energy Supply'] / Top15['Energy Supply per Capita']\n",
    "    Top15 = Top15.astype({'PopEst':float,'Energy Supply per Capita':float})\n",
    "    Top15['Citable docs per Capita'] = Top15['Citable documents'] / Top15['PopEst']\n",
    "    return Top15[\"Citable docs per Capita\"].corr(Top15[\"Energy Supply per Capita\"])    "
   ]
  },
  {
   "cell_type": "code",
   "execution_count": 19,
   "metadata": {},
   "outputs": [
    {
     "data": {
      "text/plain": [
       "0.7940010435442946"
      ]
     },
     "execution_count": 19,
     "metadata": {},
     "output_type": "execute_result"
    }
   ],
   "source": [
    "answer_nine()"
   ]
  },
  {
   "cell_type": "code",
   "execution_count": null,
   "metadata": {},
   "outputs": [],
   "source": []
  },
  {
   "cell_type": "code",
   "execution_count": 20,
   "metadata": {},
   "outputs": [],
   "source": [
    "def plot9():\n",
    "    import matplotlib as plt\n",
    "    %matplotlib inline\n",
    "    \n",
    "    Top15 = answer_one()\n",
    "    Top15['PopEst'] = Top15['Energy Supply'] / Top15['Energy Supply per Capita']\n",
    "    Top15['Citable docs per Capita'] = Top15['Citable documents'] / Top15['PopEst']\n",
    "    Top15.plot(x='Citable docs per Capita', y='Energy Supply per Capita', kind='scatter', xlim=[0, 0.0006])"
   ]
  },
  {
   "cell_type": "code",
   "execution_count": 21,
   "metadata": {},
   "outputs": [],
   "source": [
    "#plot9() # Be sure to comment out plot9() before submitting the assignment!"
   ]
  },
  {
   "cell_type": "markdown",
   "metadata": {},
   "source": [
    "### Question 10 (6.6%)\n",
    "Create a new column with a 1 if the country's % Renewable value is at or above the median for all countries in the top 15, and a 0 if the country's % Renewable value is below the median.\n",
    "\n",
    "*This function should return a series named `HighRenew` whose index is the country name sorted in ascending order of rank.*"
   ]
  },
  {
   "cell_type": "code",
   "execution_count": 22,
   "metadata": {
    "umich_part_id": "018",
    "umich_partlist_id": "003"
   },
   "outputs": [],
   "source": [
    "\n",
    "def answer_ten():\n",
    "    Top15 = answer_one()\n",
    "    #Top15[\"HighRenew\"] = 1 if Top15[\"% Renewable\"] >= Top15[\"% Renewable\"].median() else 0\n",
    "    #print(Top15[\"% Renewable\"].median())\n",
    "    #df['category']=df['age'].apply(lambda x: 'Adult' if x>=18 else 'Child')\n",
    "    Top15[\"HighRenew\"] = Top15[\"% Renewable\"].apply(lambda x:1 if x >=Top15[\"% Renewable\"].median() else 0)\n",
    "    return Top15[\"HighRenew\"]"
   ]
  },
  {
   "cell_type": "code",
   "execution_count": 23,
   "metadata": {},
   "outputs": [
    {
     "data": {
      "text/plain": [
       "Country\n",
       "China                 1\n",
       "United States         0\n",
       "Japan                 0\n",
       "United Kingdom        0\n",
       "Russian Federation    1\n",
       "Canada                1\n",
       "Germany               1\n",
       "India                 0\n",
       "France                1\n",
       "South Korea           0\n",
       "Italy                 1\n",
       "Spain                 1\n",
       "Iran                  0\n",
       "Australia             0\n",
       "Brazil                1\n",
       "Name: HighRenew, dtype: int64"
      ]
     },
     "execution_count": 23,
     "metadata": {},
     "output_type": "execute_result"
    }
   ],
   "source": [
    "answer_ten()"
   ]
  },
  {
   "cell_type": "code",
   "execution_count": null,
   "metadata": {},
   "outputs": [],
   "source": []
  },
  {
   "cell_type": "code",
   "execution_count": null,
   "metadata": {},
   "outputs": [],
   "source": []
  },
  {
   "cell_type": "markdown",
   "metadata": {},
   "source": [
    "### Question 11 (6.6%)\n",
    "Use the following dictionary to group the Countries by Continent, then create a dateframe that displays the sample size (the number of countries in each continent bin), and the sum, mean, and std deviation for the estimated population of each country.\n",
    "\n",
    "```python\n",
    "ContinentDict  = {'China':'Asia', \n",
    "                  'United States':'North America', \n",
    "                  'Japan':'Asia', \n",
    "                  'United Kingdom':'Europe', \n",
    "                  'Russian Federation':'Europe', \n",
    "                  'Canada':'North America', \n",
    "                  'Germany':'Europe', \n",
    "                  'India':'Asia',\n",
    "                  'France':'Europe', \n",
    "                  'South Korea':'Asia', \n",
    "                  'Italy':'Europe', \n",
    "                  'Spain':'Europe', \n",
    "                  'Iran':'Asia',\n",
    "                  'Australia':'Australia', \n",
    "                  'Brazil':'South America'}\n",
    "```\n",
    "\n",
    "*This function should return a DataFrame with index named Continent `['Asia', 'Australia', 'Europe', 'North America', 'South America']` and columns `['size', 'sum', 'mean', 'std']`*"
   ]
  },
  {
   "cell_type": "code",
   "execution_count": null,
   "metadata": {},
   "outputs": [],
   "source": []
  },
  {
   "cell_type": "code",
   "execution_count": 28,
   "metadata": {},
   "outputs": [],
   "source": [
    "ContinentDict  = {'China':'Asia', \n",
    "                  'United States':'North America', \n",
    "                  'Japan':'Asia', \n",
    "                  'United Kingdom':'Europe', \n",
    "                  'Russian Federation':'Europe', \n",
    "                  'Canada':'North America', \n",
    "                  'Germany':'Europe', \n",
    "                  'India':'Asia',\n",
    "                  'France':'Europe', \n",
    "                  'South Korea':'Asia', \n",
    "                  'Italy':'Europe', \n",
    "                  'Spain':'Europe', \n",
    "                  'Iran':'Asia',\n",
    "                  'Australia':'Australia', \n",
    "                  'Brazil':'South America'}"
   ]
  },
  {
   "cell_type": "code",
   "execution_count": 33,
   "metadata": {
    "umich_part_id": "019",
    "umich_partlist_id": "003"
   },
   "outputs": [],
   "source": [
    "def answer_eleven():\n",
    "    Top15 = answer_one()\n",
    "    grpbyobj = Top15.groupby(ContinentDict)\n",
    "    return grpbyobj"
   ]
  },
  {
   "cell_type": "code",
   "execution_count": 35,
   "metadata": {},
   "outputs": [],
   "source": [
    "objct = answer_eleven()"
   ]
  },
  {
   "cell_type": "code",
   "execution_count": 36,
   "metadata": {},
   "outputs": [
    {
     "data": {
      "text/plain": [
       "pandas.core.groupby.generic.DataFrameGroupBy"
      ]
     },
     "execution_count": 36,
     "metadata": {},
     "output_type": "execute_result"
    }
   ],
   "source": [
    "type(objct)"
   ]
  },
  {
   "cell_type": "code",
   "execution_count": 38,
   "metadata": {},
   "outputs": [
    {
     "data": {
      "text/html": [
       "<div>\n",
       "<style scoped>\n",
       "    .dataframe tbody tr th:only-of-type {\n",
       "        vertical-align: middle;\n",
       "    }\n",
       "\n",
       "    .dataframe tbody tr th {\n",
       "        vertical-align: top;\n",
       "    }\n",
       "\n",
       "    .dataframe thead tr th {\n",
       "        text-align: left;\n",
       "    }\n",
       "</style>\n",
       "<table border=\"1\" class=\"dataframe\">\n",
       "  <thead>\n",
       "    <tr>\n",
       "      <th></th>\n",
       "      <th colspan=\"8\" halign=\"left\">Rank</th>\n",
       "      <th colspan=\"2\" halign=\"left\">Documents</th>\n",
       "      <th>...</th>\n",
       "      <th colspan=\"2\" halign=\"left\">2014</th>\n",
       "      <th colspan=\"8\" halign=\"left\">2015</th>\n",
       "    </tr>\n",
       "    <tr>\n",
       "      <th></th>\n",
       "      <th>count</th>\n",
       "      <th>mean</th>\n",
       "      <th>std</th>\n",
       "      <th>min</th>\n",
       "      <th>25%</th>\n",
       "      <th>50%</th>\n",
       "      <th>75%</th>\n",
       "      <th>max</th>\n",
       "      <th>count</th>\n",
       "      <th>mean</th>\n",
       "      <th>...</th>\n",
       "      <th>75%</th>\n",
       "      <th>max</th>\n",
       "      <th>count</th>\n",
       "      <th>mean</th>\n",
       "      <th>std</th>\n",
       "      <th>min</th>\n",
       "      <th>25%</th>\n",
       "      <th>50%</th>\n",
       "      <th>75%</th>\n",
       "      <th>max</th>\n",
       "    </tr>\n",
       "  </thead>\n",
       "  <tbody>\n",
       "    <tr>\n",
       "      <th>Asia</th>\n",
       "      <td>5.0</td>\n",
       "      <td>7.0</td>\n",
       "      <td>4.949747</td>\n",
       "      <td>1.0</td>\n",
       "      <td>3.0</td>\n",
       "      <td>8.0</td>\n",
       "      <td>10.0</td>\n",
       "      <td>13.0</td>\n",
       "      <td>5.0</td>\n",
       "      <td>38687.600000</td>\n",
       "      <td>...</td>\n",
       "      <td>5.642884e+12</td>\n",
       "      <td>8.230121e+12</td>\n",
       "      <td>4.0</td>\n",
       "      <td>4.525337e+12</td>\n",
       "      <td>3.407928e+12</td>\n",
       "      <td>1.266580e+12</td>\n",
       "      <td>2.092050e+12</td>\n",
       "      <td>4.018385e+12</td>\n",
       "      <td>6.451672e+12</td>\n",
       "      <td>8.797999e+12</td>\n",
       "    </tr>\n",
       "    <tr>\n",
       "      <th>Australia</th>\n",
       "      <td>1.0</td>\n",
       "      <td>14.0</td>\n",
       "      <td>NaN</td>\n",
       "      <td>14.0</td>\n",
       "      <td>14.0</td>\n",
       "      <td>14.0</td>\n",
       "      <td>14.0</td>\n",
       "      <td>14.0</td>\n",
       "      <td>1.0</td>\n",
       "      <td>8831.000000</td>\n",
       "      <td>...</td>\n",
       "      <td>1.272520e+12</td>\n",
       "      <td>1.272520e+12</td>\n",
       "      <td>1.0</td>\n",
       "      <td>1.301251e+12</td>\n",
       "      <td>NaN</td>\n",
       "      <td>1.301251e+12</td>\n",
       "      <td>1.301251e+12</td>\n",
       "      <td>1.301251e+12</td>\n",
       "      <td>1.301251e+12</td>\n",
       "      <td>1.301251e+12</td>\n",
       "    </tr>\n",
       "    <tr>\n",
       "      <th>Europe</th>\n",
       "      <td>6.0</td>\n",
       "      <td>8.0</td>\n",
       "      <td>3.224903</td>\n",
       "      <td>4.0</td>\n",
       "      <td>5.5</td>\n",
       "      <td>8.0</td>\n",
       "      <td>10.5</td>\n",
       "      <td>12.0</td>\n",
       "      <td>6.0</td>\n",
       "      <td>15008.333333</td>\n",
       "      <td>...</td>\n",
       "      <td>2.698635e+12</td>\n",
       "      <td>3.624386e+12</td>\n",
       "      <td>6.0</td>\n",
       "      <td>2.366393e+12</td>\n",
       "      <td>8.420711e+11</td>\n",
       "      <td>1.419821e+12</td>\n",
       "      <td>1.724441e+12</td>\n",
       "      <td>2.357825e+12</td>\n",
       "      <td>2.737472e+12</td>\n",
       "      <td>3.685556e+12</td>\n",
       "    </tr>\n",
       "    <tr>\n",
       "      <th>North America</th>\n",
       "      <td>2.0</td>\n",
       "      <td>4.0</td>\n",
       "      <td>2.828427</td>\n",
       "      <td>2.0</td>\n",
       "      <td>3.0</td>\n",
       "      <td>4.0</td>\n",
       "      <td>5.0</td>\n",
       "      <td>6.0</td>\n",
       "      <td>2.0</td>\n",
       "      <td>57280.000000</td>\n",
       "      <td>...</td>\n",
       "      <td>1.256084e+13</td>\n",
       "      <td>1.615662e+13</td>\n",
       "      <td>2.0</td>\n",
       "      <td>9.170591e+12</td>\n",
       "      <td>1.043404e+13</td>\n",
       "      <td>1.792609e+12</td>\n",
       "      <td>5.481600e+12</td>\n",
       "      <td>9.170591e+12</td>\n",
       "      <td>1.285958e+13</td>\n",
       "      <td>1.654857e+13</td>\n",
       "    </tr>\n",
       "    <tr>\n",
       "      <th>South America</th>\n",
       "      <td>1.0</td>\n",
       "      <td>15.0</td>\n",
       "      <td>NaN</td>\n",
       "      <td>15.0</td>\n",
       "      <td>15.0</td>\n",
       "      <td>15.0</td>\n",
       "      <td>15.0</td>\n",
       "      <td>15.0</td>\n",
       "      <td>1.0</td>\n",
       "      <td>8668.000000</td>\n",
       "      <td>...</td>\n",
       "      <td>2.412231e+12</td>\n",
       "      <td>2.412231e+12</td>\n",
       "      <td>1.0</td>\n",
       "      <td>2.319423e+12</td>\n",
       "      <td>NaN</td>\n",
       "      <td>2.319423e+12</td>\n",
       "      <td>2.319423e+12</td>\n",
       "      <td>2.319423e+12</td>\n",
       "      <td>2.319423e+12</td>\n",
       "      <td>2.319423e+12</td>\n",
       "    </tr>\n",
       "  </tbody>\n",
       "</table>\n",
       "<p>5 rows × 144 columns</p>\n",
       "</div>"
      ],
      "text/plain": [
       "               Rank                                               Documents  \\\n",
       "              count  mean       std   min   25%   50%   75%   max     count   \n",
       "Asia            5.0   7.0  4.949747   1.0   3.0   8.0  10.0  13.0       5.0   \n",
       "Australia       1.0  14.0       NaN  14.0  14.0  14.0  14.0  14.0       1.0   \n",
       "Europe          6.0   8.0  3.224903   4.0   5.5   8.0  10.5  12.0       6.0   \n",
       "North America   2.0   4.0  2.828427   2.0   3.0   4.0   5.0   6.0       2.0   \n",
       "South America   1.0  15.0       NaN  15.0  15.0  15.0  15.0  15.0       1.0   \n",
       "\n",
       "                             ...          2014                2015  \\\n",
       "                       mean  ...           75%           max count   \n",
       "Asia           38687.600000  ...  5.642884e+12  8.230121e+12   4.0   \n",
       "Australia       8831.000000  ...  1.272520e+12  1.272520e+12   1.0   \n",
       "Europe         15008.333333  ...  2.698635e+12  3.624386e+12   6.0   \n",
       "North America  57280.000000  ...  1.256084e+13  1.615662e+13   2.0   \n",
       "South America   8668.000000  ...  2.412231e+12  2.412231e+12   1.0   \n",
       "\n",
       "                                                                       \\\n",
       "                       mean           std           min           25%   \n",
       "Asia           4.525337e+12  3.407928e+12  1.266580e+12  2.092050e+12   \n",
       "Australia      1.301251e+12           NaN  1.301251e+12  1.301251e+12   \n",
       "Europe         2.366393e+12  8.420711e+11  1.419821e+12  1.724441e+12   \n",
       "North America  9.170591e+12  1.043404e+13  1.792609e+12  5.481600e+12   \n",
       "South America  2.319423e+12           NaN  2.319423e+12  2.319423e+12   \n",
       "\n",
       "                                                         \n",
       "                        50%           75%           max  \n",
       "Asia           4.018385e+12  6.451672e+12  8.797999e+12  \n",
       "Australia      1.301251e+12  1.301251e+12  1.301251e+12  \n",
       "Europe         2.357825e+12  2.737472e+12  3.685556e+12  \n",
       "North America  9.170591e+12  1.285958e+13  1.654857e+13  \n",
       "South America  2.319423e+12  2.319423e+12  2.319423e+12  \n",
       "\n",
       "[5 rows x 144 columns]"
      ]
     },
     "execution_count": 38,
     "metadata": {},
     "output_type": "execute_result"
    }
   ],
   "source": [
    "objct.describe()"
   ]
  },
  {
   "cell_type": "code",
   "execution_count": null,
   "metadata": {},
   "outputs": [],
   "source": []
  },
  {
   "cell_type": "code",
   "execution_count": null,
   "metadata": {},
   "outputs": [],
   "source": []
  },
  {
   "cell_type": "code",
   "execution_count": null,
   "metadata": {},
   "outputs": [],
   "source": []
  },
  {
   "cell_type": "code",
   "execution_count": null,
   "metadata": {},
   "outputs": [],
   "source": []
  },
  {
   "cell_type": "code",
   "execution_count": null,
   "metadata": {},
   "outputs": [],
   "source": []
  },
  {
   "cell_type": "code",
   "execution_count": null,
   "metadata": {},
   "outputs": [],
   "source": []
  },
  {
   "cell_type": "markdown",
   "metadata": {},
   "source": [
    "### Question 12 (6.6%)\n",
    "Cut % Renewable into 5 bins. Group Top15 by the Continent, as well as these new % Renewable bins. How many countries are in each of these groups?\n",
    "\n",
    "*This function should return a __Series__ with a MultiIndex of `Continent`, then the bins for `% Renewable`. Do not include groups with no countries.*"
   ]
  },
  {
   "cell_type": "code",
   "execution_count": null,
   "metadata": {
    "collapsed": true,
    "scrolled": true
   },
   "outputs": [],
   "source": [
    "def answer_twelve():\n",
    "    Top15 = answer_one()\n",
    "    return \"ANSWER\""
   ]
  },
  {
   "cell_type": "markdown",
   "metadata": {},
   "source": [
    "### Question 13 (6.6%)\n",
    "Convert the Population Estimate series to a string with thousands separator (using commas). Do not round the results.\n",
    "\n",
    "e.g. 317615384.61538464 -> 317,615,384.61538464\n",
    "\n",
    "*This function should return a Series `PopEst` whose index is the country name and whose values are the population estimate string.*"
   ]
  },
  {
   "cell_type": "code",
   "execution_count": null,
   "metadata": {
    "collapsed": true,
    "scrolled": true,
    "umich_part_id": "020",
    "umich_partlist_id": "003"
   },
   "outputs": [],
   "source": [
    "def answer_thirteen():\n",
    "    Top15 = answer_one()\n",
    "    return \"ANSWER\""
   ]
  },
  {
   "cell_type": "markdown",
   "metadata": {},
   "source": [
    "### Optional\n",
    "\n",
    "Use the built in function `plot_optional()` to see an example visualization."
   ]
  },
  {
   "cell_type": "code",
   "execution_count": null,
   "metadata": {
    "collapsed": true,
    "scrolled": true
   },
   "outputs": [],
   "source": [
    "def plot_optional():\n",
    "    import matplotlib as plt\n",
    "    %matplotlib inline\n",
    "    Top15 = answer_one()\n",
    "    ax = Top15.plot(x='Rank', y='% Renewable', kind='scatter', \n",
    "                    c=['#e41a1c','#377eb8','#e41a1c','#4daf4a','#4daf4a','#377eb8','#4daf4a','#e41a1c',\n",
    "                       '#4daf4a','#e41a1c','#4daf4a','#4daf4a','#e41a1c','#dede00','#ff7f00'], \n",
    "                    xticks=range(1,16), s=6*Top15['2014']/10**10, alpha=.75, figsize=[16,6]);\n",
    "\n",
    "    for i, txt in enumerate(Top15.index):\n",
    "        ax.annotate(txt, [Top15['Rank'][i], Top15['% Renewable'][i]], ha='center')\n",
    "\n",
    "    print(\"This is an example of a visualization that can be created to help understand the data. \\\n",
    "This is a bubble chart showing % Renewable vs. Rank. The size of the bubble corresponds to the countries' \\\n",
    "2014 GDP, and the color corresponds to the continent.\")"
   ]
  },
  {
   "cell_type": "code",
   "execution_count": null,
   "metadata": {
    "collapsed": true
   },
   "outputs": [],
   "source": [
    "#plot_optional() # Be sure to comment out plot_optional() before submitting the assignment!"
   ]
  }
 ],
 "metadata": {
  "anaconda-cloud": {},
  "coursera": {
   "course_slug": "python-data-analysis",
   "graded_item_id": "zAr06",
   "launcher_item_id": "KSSjT",
   "part_id": "SL3fU"
  },
  "kernelspec": {
   "display_name": "Python 3",
   "language": "python",
   "name": "python3"
  },
  "language_info": {
   "codemirror_mode": {
    "name": "ipython",
    "version": 3
   },
   "file_extension": ".py",
   "mimetype": "text/x-python",
   "name": "python",
   "nbconvert_exporter": "python",
   "pygments_lexer": "ipython3",
   "version": "3.7.7"
  },
  "umich": {
   "id": "Assignment 3",
   "version": "1.5"
  }
 },
 "nbformat": 4,
 "nbformat_minor": 1
}
